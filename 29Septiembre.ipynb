{
  "nbformat": 4,
  "nbformat_minor": 0,
  "metadata": {
    "colab": {
      "name": "Untitled0.ipynb",
      "provenance": [],
      "authorship_tag": "ABX9TyOc0gJvV+gtA81yIF58wU5o",
      "include_colab_link": true
    },
    "kernelspec": {
      "name": "python3",
      "display_name": "Python 3"
    }
  },
  "cells": [
    {
      "cell_type": "markdown",
      "metadata": {
        "id": "view-in-github",
        "colab_type": "text"
      },
      "source": [
        "<a href=\"https://colab.research.google.com/github/Alejandrico14/edd_1310_2021/blob/master/29Septiembre.ipynb\" target=\"_parent\"><img src=\"https://colab.research.google.com/assets/colab-badge.svg\" alt=\"Open In Colab\"/></a>"
      ]
    },
    {
      "cell_type": "code",
      "metadata": {
        "id": "xyr2mIjjssfg"
      },
      "source": [
        "edad = 10"
      ],
      "execution_count": 1,
      "outputs": []
    },
    {
      "cell_type": "code",
      "metadata": {
        "id": "6e2sbsBCv4Dg",
        "outputId": "22530cbb-c378-4ee0-c6e1-942329c8ce08",
        "colab": {
          "base_uri": "https://localhost:8080/",
          "height": 86
        }
      },
      "source": [
        "print(edad)\n",
        "colores = (\"azul\", \"morado\", \"verde\", \"rosa\", \"amarillo\")\n",
        "print(colores)\n",
        "\n",
        "print (colores[3])\n",
        "colores[0]"
      ],
      "execution_count": 11,
      "outputs": [
        {
          "output_type": "stream",
          "text": [
            "10\n",
            "('azul', 'morado', 'verde', 'rosa', 'amarillo')\n",
            "rosa\n"
          ],
          "name": "stdout"
        },
        {
          "output_type": "execute_result",
          "data": {
            "application/vnd.google.colaboratory.intrinsic+json": {
              "type": "string"
            },
            "text/plain": [
              "'azul'"
            ]
          },
          "metadata": {
            "tags": []
          },
          "execution_count": 11
        }
      ]
    },
    {
      "cell_type": "code",
      "metadata": {
        "id": "rjJyB4XOw9KR",
        "outputId": "cfc577e5-c834-488b-a4de-8c62628762b2",
        "colab": {
          "base_uri": "https://localhost:8080/",
          "height": 68
        }
      },
      "source": [
        "# solo mostrar la ra de morado?\n",
        "\n",
        "print(colores[1][2:4])\n",
        "#ésto se llama Slising\n",
        "nombre = \"Alberto\"\n",
        "print(nombre[0])\n",
        "print(nombre [0:3:1])\n",
        "#arriba donde se puso el : a lado del 3 es un incremento , y en el de colores\n",
        "#se puede decir que es lo mismo pues el 1 es  por default\n"
      ],
      "execution_count": 15,
      "outputs": [
        {
          "output_type": "stream",
          "text": [
            "ra\n",
            "A\n",
            "Alb\n"
          ],
          "name": "stdout"
        }
      ]
    },
    {
      "cell_type": "markdown",
      "metadata": {
        "id": "8NecBRL_yKkt"
      },
      "source": [
        "# For en Python 3\n",
        "2 variantes \n",
        "1. j in range(ini,tope, ; incremento)\n",
        "2. in [iterador]"
      ]
    },
    {
      "cell_type": "code",
      "metadata": {
        "id": "p29hJXWkx-vA",
        "outputId": "19c20522-1e9b-4095-99ab-55c6aab89b64",
        "colab": {
          "base_uri": "https://localhost:8080/",
          "height": 102
        }
      },
      "source": [
        "for j in range(0,5,1):\n",
        "  print(colores[j])"
      ],
      "execution_count": 14,
      "outputs": [
        {
          "output_type": "stream",
          "text": [
            "azul\n",
            "morado\n",
            "verde\n",
            "rosa\n",
            "amarillo\n"
          ],
          "name": "stdout"
        }
      ]
    },
    {
      "cell_type": "code",
      "metadata": {
        "id": "mYYhTjiUz2Tu",
        "outputId": "8f75fdd7-9282-4c2f-d78d-e8fcb424fa54",
        "colab": {
          "base_uri": "https://localhost:8080/",
          "height": 102
        }
      },
      "source": [
        "for color in colores:\n",
        "  print(color)"
      ],
      "execution_count": 16,
      "outputs": [
        {
          "output_type": "stream",
          "text": [
            "azul\n",
            "morado\n",
            "verde\n",
            "rosa\n",
            "amarillo\n"
          ],
          "name": "stdout"
        }
      ]
    },
    {
      "cell_type": "code",
      "metadata": {
        "id": "yGUgYTlV0iWb",
        "outputId": "4582bdc0-b374-400f-8901-982b8bf9e63c",
        "colab": {
          "base_uri": "https://localhost:8080/",
          "height": 136
        }
      },
      "source": [
        "for j in range(0,len(nombre),1):\n",
        "  print(nombre [j])"
      ],
      "execution_count": 17,
      "outputs": [
        {
          "output_type": "stream",
          "text": [
            "A\n",
            "l\n",
            "b\n",
            "e\n",
            "r\n",
            "t\n",
            "o\n"
          ],
          "name": "stdout"
        }
      ]
    },
    {
      "cell_type": "code",
      "metadata": {
        "id": "2u3KN9-41H1B",
        "outputId": "b0cd1671-0465-452c-9292-a116b6cca8fb",
        "colab": {
          "base_uri": "https://localhost:8080/",
          "height": 136
        }
      },
      "source": [
        "for amor in nombre:\n",
        "  print(amor)"
      ],
      "execution_count": 18,
      "outputs": [
        {
          "output_type": "stream",
          "text": [
            "A\n",
            "l\n",
            "b\n",
            "e\n",
            "r\n",
            "t\n",
            "o\n"
          ],
          "name": "stdout"
        }
      ]
    },
    {
      "cell_type": "markdown",
      "metadata": {
        "id": "4_0ZYwmi1pUg"
      },
      "source": [
        "# Qué es Markdown\n",
        "Markdown es un lenguaje de marcado para documentar código. El objetivo es simplificar la escritura de lenguaje HTML\n",
        "***\n",
        "**negritas**\n",
        "___\n",
        "soy yo ale\n",
        "---\n",
        "Probando los saltos de linea\n",
        "***\n",
        "Más información en : |github|[https://github.com/adam-p/markdown-here/wiki/Markdown-Cheatsheet)\n",
        "***\n",
        "![FES](https://www.google.com/imgres?imgurl=https%3A%2F%2Fupload.wikimedia.org%2Fwikipedia%2Fcommons%2Fthumb%2F5%2F51%2FAragon_Jonhy_corel.jpg%2F240px-Aragon_Jonhy_corel.jpg&imgrefurl=https%3A%2F%2Fes.wikipedia.org%2Fwiki%2FFacultad_de_Estudios_Superiores_Arag%25C3%25B3n&tbnid=Edf4UB7QfQiLXM&vet=12ahUKEwj0k6em747sAhXOa6wKHdjuDdcQMygBegUIARDRAQ..i&docid=F67U9pSJRy4R_M&w=240&h=196&q=fes%20aragon&ved=2ahUKEwj0k6em747sAhXOa6wKHdjuDdcQMygBegUIARDRAQ)\n",
        "\n",
        "![FES]()\n"
      ]
    }
  ]
}
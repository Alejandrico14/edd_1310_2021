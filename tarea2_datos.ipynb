{
  "nbformat": 4,
  "nbformat_minor": 0,
  "metadata": {
    "colab": {
      "name": "tarea2_datos.ipynb",
      "provenance": [],
      "authorship_tag": "ABX9TyMoV//M+6X31cah3yMuqLO/",
      "include_colab_link": true
    },
    "kernelspec": {
      "name": "python3",
      "display_name": "Python 3"
    }
  },
  "cells": [
    {
      "cell_type": "markdown",
      "metadata": {
        "id": "view-in-github",
        "colab_type": "text"
      },
      "source": [
        "<a href=\"https://colab.research.google.com/github/Alejandrico14/edd_1310_2021/blob/master/tarea2_datos.ipynb\" target=\"_parent\"><img src=\"https://colab.research.google.com/assets/colab-badge.svg\" alt=\"Open In Colab\"/></a>"
      ]
    },
    {
      "cell_type": "code",
      "metadata": {
        "id": "k2rU-0HL2utG",
        "outputId": "c10f7bcd-7e92-4762-faf1-ac4324a32691",
        "colab": {
          "base_uri": "https://localhost:8080/",
          "height": 1000
        }
      },
      "source": [
        "archivo = open('datos', 'rt')\n",
        "datos = archivo.read()\n",
        "new_datos = datos.replace(\" \",\"\") \n",
        "archivo.close()\n",
        "print(new_datos)\n",
        "\n",
        "datos = 0\n",
        "valor = 0\n",
        "renglon = 0\n",
        "#numero = [] * 10\n",
        "numero = []\n",
        "\n",
        "print(\"________________________________________\")\n",
        "\n",
        "#ahora si vamos a la operación.\n",
        "print('Datos De la suma\\n')\n",
        "#print(datos_1)\n",
        "listota = range(len(new_datos))\n",
        "#listota = range(100)\n",
        "cuenta = 0\n",
        "#print(listota)\n",
        "interador=\"\"\n",
        "\n",
        "for i in listota :\n",
        "\n",
        "   if new_datos[i] == ',':\n",
        "        cuenta=1+cuenta    \n",
        "        valor=int(interador)\n",
        "        numero.append(valor)\n",
        "        interador=\"\"        \n",
        "   else :\n",
        "            interador=interador+new_datos[i]\n",
        "   if new_datos[i] == '\\n' :\n",
        "            renglon = renglon + 1\n",
        "#            print \"El renglon es :\", renglon\n",
        "            \n",
        "            if len(numero) != 0 :\n",
        "                print(\"El renglon es :\", renglon)\n",
        "                print(\"El Conjunto de valores es : \", numero)\n",
        "                print(\"La suma total del renglon es : \", sum(numero))\n",
        "            else : \n",
        "                print(\"El renglon\", renglon, \"esta vacio\")\n",
        "                \n",
        "            cuenta = 0\n",
        "            interador=\"\"\n",
        "            numero = []\n",
        "\n",
        "total = [396, 365, 721, 373, 724, 461, 738, 583, 152]\n",
        "print(\"La suma total es:\",sum(total))"
      ],
      "execution_count": 3,
      "outputs": [
        {
          "output_type": "stream",
          "text": [
            "1,2,1,14,29,45,5,58,56,10,29,14,88,17,4,3,1,7,12,10\n",
            "\n",
            "2,23,5,8,44,2,2,13,5,9,10,16,98,76,47,1,1,3,2\n",
            "\n",
            "3,87,15,11,9,7,90,97,21,3,4,1,8,88,74,32,34,43,17,77,93\n",
            "\n",
            "4,46,8,1,6,2,10,37,84,4,5,9,10,2,6,31,1,1,8,4,20,33,23,18,45\n",
            "\n",
            "55,3,2,29,58,83,9,17,1,43,20,93,31,46,43,77,8,44,45,17,62\n",
            "\n",
            "6,74,13,44,18,45,11,93,2,1,1,1,25,1,42,18,22,44,52\n",
            "\n",
            "7,88,93,6,54,2,8,1,41,86,79,33,48,9,32,63,18,7,33,2,1,16,11,7\n",
            "\n",
            "8,0,22,17,30,6,2,12,47,37,34,85,47,33,2,6,8,4,5,29,30,42,77,2\n",
            "\n",
            "9,2,3,4,1,1,3,6,7,7,8,9,5,1,3,4,9,10,12,3,1,5,6,22,11,0,2\n",
            "\n",
            "1,0,2,55,9,3,55,23,1,6,9,4,5,3,3,2,1,3,8,1,6,10,0,1,5,1,3\n",
            "_______________________-\n",
            "Datos cargados en memoria\n",
            "\n",
            "El renglon es : 1\n",
            "El Conjunto de valores es :  [1, 2, 1, 14, 29, 45, 5, 58, 56, 10, 29, 14, 88, 17, 4, 3, 1, 7, 12]\n",
            "La suma total del renglon es :  396\n",
            "El renglon 2 esta vacio\n",
            "El renglon es : 3\n",
            "El Conjunto de valores es :  [2, 23, 5, 8, 44, 2, 2, 13, 5, 9, 10, 16, 98, 76, 47, 1, 1, 3]\n",
            "La suma total del renglon es :  365\n",
            "El renglon 4 esta vacio\n",
            "El renglon es : 5\n",
            "El Conjunto de valores es :  [3, 87, 15, 11, 9, 7, 90, 97, 21, 3, 4, 1, 8, 88, 74, 32, 34, 43, 17, 77]\n",
            "La suma total del renglon es :  721\n",
            "El renglon 6 esta vacio\n",
            "El renglon es : 7\n",
            "El Conjunto de valores es :  [4, 46, 8, 1, 6, 2, 10, 37, 84, 4, 5, 9, 10, 2, 6, 31, 1, 1, 8, 4, 20, 33, 23, 18]\n",
            "La suma total del renglon es :  373\n",
            "El renglon 8 esta vacio\n",
            "El renglon es : 9\n",
            "El Conjunto de valores es :  [55, 3, 2, 29, 58, 83, 9, 17, 1, 43, 20, 93, 31, 46, 43, 77, 8, 44, 45, 17]\n",
            "La suma total del renglon es :  724\n",
            "El renglon 10 esta vacio\n",
            "El renglon es : 11\n",
            "El Conjunto de valores es :  [6, 74, 13, 44, 18, 45, 11, 93, 2, 1, 1, 1, 25, 1, 42, 18, 22, 44]\n",
            "La suma total del renglon es :  461\n",
            "El renglon 12 esta vacio\n",
            "El renglon es : 13\n",
            "El Conjunto de valores es :  [7, 88, 93, 6, 54, 2, 8, 1, 41, 86, 79, 33, 48, 9, 32, 63, 18, 7, 33, 2, 1, 16, 11]\n",
            "La suma total del renglon es :  738\n",
            "El renglon 14 esta vacio\n",
            "El renglon es : 15\n",
            "El Conjunto de valores es :  [8, 0, 22, 17, 30, 6, 2, 12, 47, 37, 34, 85, 47, 33, 2, 6, 8, 4, 5, 29, 30, 42, 77]\n",
            "La suma total del renglon es :  583\n",
            "El renglon 16 esta vacio\n",
            "El renglon es : 17\n",
            "El Conjunto de valores es :  [9, 2, 3, 4, 1, 1, 3, 6, 7, 7, 8, 9, 5, 1, 3, 4, 9, 10, 12, 3, 1, 5, 6, 22, 11, 0]\n",
            "La suma total del renglon es :  152\n",
            "El renglon 18 esta vacio\n",
            "La suma total es: 4513\n",
            "Fin\n"
          ],
          "name": "stdout"
        }
      ]
    }
  ]
}
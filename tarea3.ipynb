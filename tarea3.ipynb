{
  "nbformat": 4,
  "nbformat_minor": 0,
  "metadata": {
    "colab": {
      "name": "tarea3.ipynb",
      "provenance": [],
      "authorship_tag": "ABX9TyMM2wMsct0kIKaHXA7chYr0",
      "include_colab_link": true
    },
    "kernelspec": {
      "name": "python3",
      "display_name": "Python 3"
    }
  },
  "cells": [
    {
      "cell_type": "markdown",
      "metadata": {
        "id": "view-in-github",
        "colab_type": "text"
      },
      "source": [
        "<a href=\"https://colab.research.google.com/github/Alejandrico14/edd_1310_2021/blob/master/tarea3.ipynb\" target=\"_parent\"><img src=\"https://colab.research.google.com/assets/colab-badge.svg\" alt=\"Open In Colab\"/></a>"
      ]
    },
    {
      "cell_type": "code",
      "metadata": {
        "id": "i5kuhV82NJJS",
        "outputId": "cbe4a601-f764-422d-855a-8100bc9820c1",
        "colab": {
          "base_uri": "https://localhost:8080/",
          "height": 255
        }
      },
      "source": [
        "contactos = \"Alberto\", \"Juanjo\", \" Miku\", \"Doryann\"\n",
        "\n",
        "class Persona:\n",
        "  def __init__( self, n , ed , est ):\n",
        "    self.__nombre = n\n",
        "    self.__edad = ed\n",
        "    self.__estatura = est\n",
        "  def to_string( self ):\n",
        "    return \" Nombre: \"+self.__nombre + \"Tiene la Edad de :\"+ self.__edad + \"y mide: \" + self.__estatura\n",
        "    return \"Empty\" \n",
        "#meto2\n",
        "  def Dormir ( self  ):\n",
        "\n",
        "     print(\" me wa dormir 12 horas :D  \")\n",
        "  \n",
        "  def Comer ( self  ):\n",
        "     print( \" ÑAM ÑAM ÑAM!!!! SOY INSACIABLE\")\n",
        "\n",
        "cjuani = Persona(\"Alejandro \",\"20 años \", \"0.57cm, es decir, ta chikito\")\n",
        "\n",
        "\n",
        "\n",
        "print(cjuani.to_string())\n",
        "print(cjuani.Dormir())\n",
        "print(cjuani.Comer())\n",
        "\n",
        "#2. Celular\n",
        "  #  *atributos: Marca, Modelo y espacio de Memoria\n",
        "   # *Métodos: Llamar, poner alarma\n",
        "print(\" Clase de Celular\\n __________________________________\")\n",
        "class Celular:\n",
        "  def __init__ ( self ,  ma, modl, memo):\n",
        "    self.__marca = ma\n",
        "    self.__modelo = modl\n",
        "    self.__espacio_memoria = memo\n",
        "\n",
        "\n",
        "  def to_string( self ):\n",
        "    return \" Marca: \"+ self.__marca +\"El modelo de celular es \"+ self.__modelo + \" Y tiene de espacio de memoria \" + self.__espacio_memoria\n",
        "    return \"Empty\"\n",
        "#Metodos.\n",
        "\n",
        "  def Llamar ( self ):\n",
        "    print(\"Ujule, mira cómo anda llamando a to2, toy to loco...Llamando a...\" )\n",
        "    contact = [x for x in contactos]\n",
        "    print(contact)\n",
        "    print( \"Ring... ring... ring...\")\n",
        "  def Poner_Alarma ( self ):\n",
        "    print( \"¿A qué hora quieres dormir mi rey?\")\n",
        "\n",
        "celu = Celular(\"Huawei \", \" P9 2019\", \"tiene 64Gb en memoria\")\n",
        "\n",
        "print(celu.to_string())\n",
        "print(celu.Llamar())\n",
        "print(celu.Poner_Alarma())"
      ],
      "execution_count": 38,
      "outputs": [
        {
          "output_type": "stream",
          "text": [
            " Nombre: Alejandro Tiene la Edad de :20 años y mide: 0.57cm, es decir, ta chikito\n",
            " me wa dormir 12 horas :D  \n",
            "None\n",
            " ÑAM ÑAM ÑAM!!!! SOY INSACIABLE\n",
            "None\n",
            " Clase de Celular\n",
            " __________________________________\n",
            " Marca: Huawei El modelo de celular es  P9 2019 Y tiene de espacio de memoria tiene 64Gb en memoria\n",
            "Ujule, mira cómo anda llamando a to2, toy to loco...Llamando a...\n",
            "['Alberto', 'Juanjo', ' Miku', 'Doryann']\n",
            "Ring... ring... ring...\n",
            "None\n",
            "¿A qué hora quieres dormir mi rey?\n",
            "None\n"
          ],
          "name": "stdout"
        }
      ]
    },
    {
      "cell_type": "code",
      "metadata": {
        "id": "h8oOHHocbsHV"
      },
      "source": [
        ""
      ],
      "execution_count": null,
      "outputs": []
    }
  ]
}
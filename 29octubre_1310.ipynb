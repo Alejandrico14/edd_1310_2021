{
  "nbformat": 4,
  "nbformat_minor": 0,
  "metadata": {
    "colab": {
      "name": "29octubre_1310.ipynb",
      "provenance": [],
      "authorship_tag": "ABX9TyPh/uDHnVVIZqe+uAK0VSp5",
      "include_colab_link": true
    },
    "kernelspec": {
      "name": "python3",
      "display_name": "Python 3"
    }
  },
  "cells": [
    {
      "cell_type": "markdown",
      "metadata": {
        "id": "view-in-github",
        "colab_type": "text"
      },
      "source": [
        "<a href=\"https://colab.research.google.com/github/Alejandrico14/edd_1310_2021/blob/master/29octubre_1310.ipynb\" target=\"_parent\"><img src=\"https://colab.research.google.com/assets/colab-badge.svg\" alt=\"Open In Colab\"/></a>"
      ]
    },
    {
      "cell_type": "code",
      "metadata": {
        "id": "l01QUdmtVTU1",
        "outputId": "e641dd60-3c7a-4717-c2f2-149a8afa002d",
        "colab": {
          "base_uri": "https://localhost:8080/"
        }
      },
      "source": [
        "class Array:\n",
        "    def __init__(self,tam):\n",
        "        self.__info = [0 for x in range(tam) ]\n",
        "\n",
        "    def get_item(self,posicion):\n",
        "        dato = -1\n",
        "        try:\n",
        "            dato = self.__info[posicion]\n",
        "        except Exception as e:\n",
        "            print(\"error de posicion\")\n",
        "            dato = \"error\"\n",
        "        return dato \n",
        "\n",
        "    def set_item(self,indice,posicion):\n",
        "        try:\n",
        "            self.__info[posicion]\n",
        "        except Exception as e:\n",
        "            print(\"error de posicion\")\n",
        "    def get_length(self):\n",
        "        return len(self.__info)\n",
        "\n",
        "    def __iter__(self):\n",
        "        return _IteradorArreglo(self.__info)                \n",
        "           \n",
        "    def Clear(self,dato):\n",
        "        self.__info=[dato for x in range(len(self.__info))]\n",
        "\n",
        "class _IteradorArreglo():\n",
        "    \n",
        "    def __init__(self,arr):\n",
        "        self.__arr = arr\n",
        "        self.__indice = 0\n",
        "    \n",
        "    def __iter__(self):\n",
        "        return self\n",
        "        \n",
        "    \n",
        "    def __next__(self):\n",
        "        if self.__indice < len(self.__arr):\n",
        "            dato = self.__arr[self.__indice]\n",
        "            self.__indice += 1\n",
        "            return dato\n",
        "        else :\n",
        "            raise StopIteration\n",
        "\n",
        "    \n",
        "algo = Array(10)\n",
        "print(algo.get_item(3656))\n",
        "print(algo.get_item(3))\n",
        "print(f\"el arreglo tiene {algo.get_length()} elementos \")\n",
        "algo.Clear(777)\n",
        "print(algo.get_item(3))\n",
        "print(\"---------------------\")\n",
        "for x in algo:\n",
        "    print(x)"
      ],
      "execution_count": 1,
      "outputs": [
        {
          "output_type": "stream",
          "text": [
            "error de posicion\n",
            "error\n",
            "0\n",
            "el arreglo tiene 10 elementos \n",
            "777\n",
            "---------------------\n",
            "777\n",
            "777\n",
            "777\n",
            "777\n",
            "777\n",
            "777\n",
            "777\n",
            "777\n",
            "777\n",
            "777\n"
          ],
          "name": "stdout"
        }
      ]
    }
  ]
}
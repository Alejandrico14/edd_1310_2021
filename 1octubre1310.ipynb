{
  "nbformat": 4,
  "nbformat_minor": 0,
  "metadata": {
    "colab": {
      "name": "1octubre1310.ipynb",
      "provenance": [],
      "authorship_tag": "ABX9TyMRuHqsapVFCr0BceaOAZK8",
      "include_colab_link": true
    },
    "kernelspec": {
      "name": "python3",
      "display_name": "Python 3"
    }
  },
  "cells": [
    {
      "cell_type": "markdown",
      "metadata": {
        "id": "view-in-github",
        "colab_type": "text"
      },
      "source": [
        "<a href=\"https://colab.research.google.com/github/Alejandrico14/edd_1310_2021/blob/master/1octubre1310.ipynb\" target=\"_parent\"><img src=\"https://colab.research.google.com/assets/colab-badge.svg\" alt=\"Open In Colab\"/></a>"
      ]
    },
    {
      "cell_type": "markdown",
      "metadata": {
        "id": "MJ_rfUlH7r0o"
      },
      "source": [
        "\n",
        "\n",
        "```\n",
        "# Esto intro Python3 \n",
        "###Variables\n",
        "\n",
        "Tipo dinámico =  \"FES Aragón\"\n",
        "\n",
        "\n",
        "\n",
        "\n",
        "\n"
      ]
    },
    {
      "cell_type": "code",
      "metadata": {
        "id": "Bk7swaXd7NGa",
        "outputId": "751d1072-5cec-4332-bc6c-b3ba94ceac73",
        "colab": {
          "base_uri": "https://localhost:8080/",
          "height": 187
        }
      },
      "source": [
        "escuela = \"FES Aragón\"\n",
        "print(escuela)\n",
        "print(\"----------\")\n",
        "edad = 20\n",
        "estatura = 1.72\n",
        "fumador = True\n",
        "frase = \"\"\"\n",
        "Esta es una frase \n",
        "de multiples \n",
        "lineas y tambien\n",
        "es\n",
        "un tipo de\n",
        "dato\n",
        "\"\"\"\n",
        "print(frase)\n",
        "nombre = \"alberto\"\n",
        "nombre_completo = \"Alberto Romero Oropeza\"\n"
      ],
      "execution_count": 35,
      "outputs": [
        {
          "output_type": "stream",
          "text": [
            "FES Aragón\n",
            "----------\n",
            "\n",
            "Esta es una frase \n",
            "de multiples \n",
            "lineas y tambien\n",
            "es\n",
            "un tipo de\n",
            "dato\n",
            "\n"
          ],
          "name": "stdout"
        }
      ]
    },
    {
      "cell_type": "markdown",
      "metadata": {
        "id": "CBTceQpa90UC"
      },
      "source": [
        "# Print\n",
        "con comas ,\n",
        "\n",
        "con signo mas *+*\n",
        "\n",
        "con format ()\n",
        "\n",
        "con el operador f\"\""
      ]
    },
    {
      "cell_type": "code",
      "metadata": {
        "id": "XJLtzOlB9Q0s",
        "outputId": "e36a9e44-1714-41f0-b637-87098c62e3ac",
        "colab": {
          "base_uri": "https://localhost:8080/",
          "height": 68
        }
      },
      "source": [
        "\n",
        "print(nombre,edad)\n",
        "\n",
        "#  + concatena, pero necesita que le marque lo que tiene que hacer\n",
        "# eso debido a que con el más se puede confundir con suma \n",
        "\n",
        "\n",
        "print(nombre,\"\"  +str ( edad ))\n",
        "print(nombre_completo )\n",
        "# eso separado por minusculas y guion bajo se llama snake_case\n"
      ],
      "execution_count": 24,
      "outputs": [
        {
          "output_type": "stream",
          "text": [
            "Alberto 20\n",
            "Alberto 20\n",
            "Alberto Romero Oropeza\n"
          ],
          "name": "stdout"
        }
      ]
    },
    {
      "cell_type": "code",
      "metadata": {
        "id": "7HWmW9evANu5",
        "outputId": "40811ff3-a071-4251-8012-fc1a4b09e593",
        "colab": {
          "base_uri": "https://localhost:8080/",
          "height": 85
        }
      },
      "source": [
        "#Con formato -> Nombre: Alberto y su edad es de 20 años\n",
        "print(\"Su nombre es\", nombre, \"y su edad es\", edad, \"años\")\n",
        "\n",
        "#aquí en el format está esperando a rellenar los comodines ( que \n",
        "# serían el 0 y el 1)\n",
        "print(\"Su nombre es {0} y su edad es {1} años\".format(nombre,edad) )\n",
        "\n",
        "print(\"Su nombre es {1} y su edad es {0} años\".format(nombre,edad) )\n",
        "\n",
        "#Esto significa que el format te deja jugar con los indices (comodines)\n",
        "\n",
        "print(\"Su nombre es {} y su edad es {} años\".format(nombre,edad) )\n",
        "# en este lo dejé igual solo que sin los numeros y asigna según llega"
      ],
      "execution_count": 30,
      "outputs": [
        {
          "output_type": "stream",
          "text": [
            "Su nombre es Alberto y su edad es 20 años\n",
            "Su nombre es Alberto y su edad es 20 años\n",
            "Su nombre es 20 y su edad es Alberto años\n",
            "Su nombre es Alberto y su edad es 20 años\n"
          ],
          "name": "stdout"
        }
      ]
    },
    {
      "cell_type": "code",
      "metadata": {
        "id": "rCP6OcxwB0gf",
        "outputId": "05800b57-5b49-4603-bc70-37d41a1c35e0",
        "colab": {
          "base_uri": "https://localhost:8080/",
          "height": 34
        }
      },
      "source": [
        "#con formato con el operador f\"\"\n",
        "print(f\"El nombre es {nombre} y su edad es de {edad} años\")\n",
        "\n"
      ],
      "execution_count": 31,
      "outputs": [
        {
          "output_type": "stream",
          "text": [
            "El nombre es Alberto y su edad es de 20 años\n"
          ],
          "name": "stdout"
        }
      ]
    },
    {
      "cell_type": "markdown",
      "metadata": {
        "id": "USNBQDlvCQX3"
      },
      "source": [
        "# Carácter de escape\n",
        "\\n Salto de linea\n",
        "\n",
        "\\t Tabulador\n",
        "\n",
        "\\a Beep\n",
        "\n",
        "\\\\\" Imprimir comilla doble\n",
        "\n",
        "\\\\' Implimir comilla simple"
      ]
    },
    {
      "cell_type": "code",
      "metadata": {
        "id": "HherCQGiDRwE",
        "outputId": "f7fdfd5c-ae78-4925-bc09-6f4c73b182b5",
        "colab": {
          "base_uri": "https://localhost:8080/",
          "height": 51
        }
      },
      "source": [
        "\"\"\"\n",
        "Esto es otro\n",
        "comentario de\n",
        "multiple linea\n",
        "Bl\n",
        "\"\"\"\n",
        "print(f\"\\t Mi nombre es \\n\\t\\t{nombre}\")"
      ],
      "execution_count": 32,
      "outputs": [
        {
          "output_type": "stream",
          "text": [
            "\t Mi nombre es \n",
            "\t\tAlberto\n"
          ],
          "name": "stdout"
        }
      ]
    },
    {
      "cell_type": "markdown",
      "metadata": {
        "id": "P_79nUP_DpKN"
      },
      "source": [
        "#Ayuda de tipos de dato en Python\n",
        "dir() \n",
        "help()"
      ]
    },
    {
      "cell_type": "code",
      "metadata": {
        "id": "TLUv_jxFDncD"
      },
      "source": [
        "#los tipo de datos son estos\n",
        "#str,int, float, bool... list, dict, set\n",
        "help(str)\n"
      ],
      "execution_count": null,
      "outputs": []
    },
    {
      "cell_type": "code",
      "metadata": {
        "id": "rKBTCmlwFNOW",
        "outputId": "1a485e47-da93-4d9d-897a-5d95b54953d9",
        "colab": {
          "base_uri": "https://localhost:8080/",
          "height": 68
        }
      },
      "source": [
        "print(nombre_completo.capitalize() )\n",
        "print(nombre_completo.upper(), end=\"-----\" )\n",
        "print(nombre_completo.title() )\n",
        "print(\"Me gustan los tacos\".upper())\n",
        "\n"
      ],
      "execution_count": 45,
      "outputs": [
        {
          "output_type": "stream",
          "text": [
            "Alberto romero oropeza\n",
            "ALBERTO ROMERO OROPEZA-----Alberto Romero Oropeza\n",
            "ME GUSTAN LOS TACOS\n"
          ],
          "name": "stdout"
        }
      ]
    },
    {
      "cell_type": "code",
      "metadata": {
        "id": "ifgsIjOtGAgO",
        "outputId": "3fd7a141-6c22-48e2-b5e2-63acb6bb035d",
        "colab": {
          "base_uri": "https://localhost:8080/",
          "height": 221
        }
      },
      "source": [
        "help(print)"
      ],
      "execution_count": 38,
      "outputs": [
        {
          "output_type": "stream",
          "text": [
            "Help on built-in function print in module builtins:\n",
            "\n",
            "print(...)\n",
            "    print(value, ..., sep=' ', end='\\n', file=sys.stdout, flush=False)\n",
            "    \n",
            "    Prints the values to a stream, or to sys.stdout by default.\n",
            "    Optional keyword arguments:\n",
            "    file:  a file-like object (stream); defaults to the current sys.stdout.\n",
            "    sep:   string inserted between values, default a space.\n",
            "    end:   string appended after the last value, default a newline.\n",
            "    flush: whether to forcibly flush the stream.\n",
            "\n"
          ],
          "name": "stdout"
        }
      ]
    },
    {
      "cell_type": "markdown",
      "metadata": {
        "id": "ngpgH_jMGoS4"
      },
      "source": [
        "# Clase String\n",
        "Es manejada como un arreglo( C o Java ) o lista (python)\n",
        "\n",
        "\n"
      ]
    },
    {
      "cell_type": "code",
      "metadata": {
        "id": "-ewZ1YlWHAvj",
        "outputId": "be296f59-a596-481a-9845-425dd5a96a56",
        "colab": {
          "base_uri": "https://localhost:8080/",
          "height": 34
        }
      },
      "source": [
        "telefono = \"Huawei y9 2019 pro\" \n",
        "print (telefono [5])\n",
        "#solo mostrará la \"1\" porque estoy solo seleccionando esa letra con el 5\n",
        "\n"
      ],
      "execution_count": 46,
      "outputs": [
        {
          "output_type": "stream",
          "text": [
            "i\n"
          ],
          "name": "stdout"
        }
      ]
    },
    {
      "cell_type": "markdown",
      "metadata": {
        "id": "oE1XUuAKIMTX"
      },
      "source": [
        "#Slicing (rebanado)\n",
        "[(inicio):(stop):(incremento]]\n",
        " - las comas no van ahí pero las pongo para que se vea shido\n",
        " - el stop no se incluye, termina en el valor anterior al stop"
      ]
    },
    {
      "cell_type": "code",
      "metadata": {
        "id": "5xuO6avoIhmB",
        "outputId": "18d65131-fca4-491e-929b-9dbd4fd3dafe",
        "colab": {
          "base_uri": "https://localhost:8080/",
          "height": 102
        }
      },
      "source": [
        "print(telefono[7:10:1])\n",
        "#solo mostrará el tipo de telefono\n",
        "# el inicio y el incremento son opcionales\n",
        "print(telefono[:10:])\n",
        "#el valor por defecto de stop es len(str)\n",
        "print(telefono[::])\n",
        "print(telefono[::-2])\n",
        "print(telefono[-3::1])\n",
        "#con los valores negativos también se puede hacer\n"
      ],
      "execution_count": 55,
      "outputs": [
        {
          "output_type": "stream",
          "text": [
            "y9 \n",
            "Huawei y9 \n",
            "Huawei y9 2019 pro\n",
            "op90 yiwu\n",
            "pro\n"
          ],
          "name": "stdout"
        }
      ]
    },
    {
      "cell_type": "code",
      "metadata": {
        "id": "bXEumuV5Kb7g"
      },
      "source": [
        ""
      ],
      "execution_count": null,
      "outputs": []
    },
    {
      "cell_type": "markdown",
      "metadata": {
        "id": "XW_JDllCNOQ_"
      },
      "source": [
        "#Métodos de String (str)\n",
        "Existen métodos muy útiles en esta clase"
      ]
    },
    {
      "cell_type": "code",
      "metadata": {
        "id": "4Iy92GEtNZ_8",
        "outputId": "ebad56f5-905d-4288-b1b6-6cac3639e5ca",
        "colab": {
          "base_uri": "https://localhost:8080/",
          "height": 408
        }
      },
      "source": [
        "facultad= \"    faculdad de estudios superiores aragón     \\n \"\n",
        "print(facultad)\n",
        "print(facultad.count(\"u\")) #cuenta el numero de elementos en la cadena\n",
        "print(facultad.find(\"s\")) #Encuentra eso que le mandaste a buscar\n",
        "\n",
        "print(facultad.strip()) #quita los espacios al inicio y al final, también puede quitar los saltos de linea\n",
        "\n",
        "print(len(facultad))#len regresa la longitud del string\n",
        "\n",
        "tamaño=len(facultad)\n",
        "print(len(facultad))\n",
        "\n",
        "print(f\"tamaño de la cadena es { tamaño}  caracteres\")\n",
        "print(facultad)\n",
        "print(facultad.split(\"u\"))\n",
        "print(\"----------------\")\n",
        "#para separar por espacios se hace...\n",
        "\n",
        "print(facultad.strip().split(\" \"))\n",
        "\n",
        "print(\"----------------------------\")\n",
        "\n",
        "#copiar cadenas\n",
        "otra_cadena = facultad\n",
        "print(otra_cadena)\n",
        "otra_cadena= \"FES Aragón\"\n",
        "print(facultad)\n",
        "print(otra_cadena)\n",
        "\n",
        "#copiar listas\n",
        "colores= [\"rojo\", \"verde\"]\n",
        "otra= colores.copy()\n",
        "\n",
        "print(colores)\n",
        "print(otra)\n",
        "\n",
        "otra.append(\"rosa\")\n",
        "\n",
        "print(colores)\n",
        "print(otra)\n"
      ],
      "execution_count": 78,
      "outputs": [
        {
          "output_type": "stream",
          "text": [
            "    faculdad de estudios superiores aragón     \n",
            " \n",
            "3\n",
            "17\n",
            "faculdad de estudios superiores aragón\n",
            "49\n",
            "49\n",
            "tamaño de la cadena es 49  caracteres\n",
            "    faculdad de estudios superiores aragón     \n",
            " \n",
            "['    fac', 'ldad de est', 'dios s', 'periores aragón     \\n ']\n",
            "----------------\n",
            "['faculdad', 'de', 'estudios', 'superiores', 'aragón']\n",
            "----------------------------\n",
            "    faculdad de estudios superiores aragón     \n",
            " \n",
            "    faculdad de estudios superiores aragón     \n",
            " \n",
            "FES Aragón\n",
            "['rojo', 'verde']\n",
            "['rojo', 'verde']\n",
            "['rojo', 'verde']\n",
            "['rojo', 'verde', 'rosa']\n"
          ],
          "name": "stdout"
        }
      ]
    }
  ]
}
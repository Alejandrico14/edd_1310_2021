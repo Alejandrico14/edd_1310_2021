{
  "nbformat": 4,
  "nbformat_minor": 0,
  "metadata": {
    "colab": {
      "name": "13octubre_1310.ipynb",
      "provenance": [],
      "authorship_tag": "ABX9TyM/g9n9lHPfp1HXdpGVfCru",
      "include_colab_link": true
    },
    "kernelspec": {
      "name": "python3",
      "display_name": "Python 3"
    }
  },
  "cells": [
    {
      "cell_type": "markdown",
      "metadata": {
        "id": "view-in-github",
        "colab_type": "text"
      },
      "source": [
        "<a href=\"https://colab.research.google.com/github/Alejandrico14/edd_1310_2021/blob/master/13octubre_1310.ipynb\" target=\"_parent\"><img src=\"https://colab.research.google.com/assets/colab-badge.svg\" alt=\"Open In Colab\"/></a>"
      ]
    },
    {
      "cell_type": "code",
      "metadata": {
        "id": "XW7M4mssutYV",
        "outputId": "a6d3c142-2880-4e15-9d3a-bd5e4021a3c0",
        "colab": {
          "base_uri": "https://localhost:8080/",
          "height": 88
        }
      },
      "source": [
        "alumno = { \n",
        "          \"num_cta\" : 303030303 ,\n",
        "          \"carrera\" : \"ICO\",\n",
        "          \"promedio\" : 9.8,\n",
        "          \"materias\" :[\"EDD\",\"CyP\",\"Calidad\",\"Emprendimiento\"],\n",
        "          \"direccion\" : { \n",
        "                            \"calle\":\"rancho seco\",\n",
        "                            \"numero\" : 23 ,\n",
        "                            \"delegacion\" : \"Neza\",\n",
        "                            \"estado\" : {\n",
        "                                        \"id\" : 15 ,\n",
        "                                        \"nombre\" : \"Estado de Máxico\" ,\n",
        "                                        \"nombre_corto\" : \"EdoMex\"\n",
        "                                        } ,\n",
        "                            \"CP\":57170\n",
        "\n",
        "                        } \n",
        "          }\n",
        "print(alumno)\n",
        "alumno ['carrera']= \"Ingeniería en Computación\"\n",
        "print(alumno)\n",
        "alumno['nombre_completo']= {'primer' : \"Juan\", 'segundo' : \n",
        "                            \"Pedro\",\n",
        "                            'materno' : \"Perez\",\n",
        "                            \"paterno\": \"Gómez\"\n",
        "                            }\n",
        "print(f\"{alumno['nombre_completo']['primer']} {alumno['nombre_completo']['segundo']}\")\n",
        "\n",
        "\n"
      ],
      "execution_count": 7,
      "outputs": [
        {
          "output_type": "stream",
          "text": [
            "{'num_cta': 303030303, 'carrera': 'ICO', 'promedio': 9.8, 'materias': ['EDD', 'CyP', 'Calidad', 'Emprendimiento'], 'direccion': {'calle': 'rancho seco', 'numero': 23, 'delegacion': 'Neza', 'estado': {'id': 15, 'nombre': 'Estado de Máxico', 'nombre_corto': 'EdoMex'}, 'CP': 57170}}\n",
            "{'num_cta': 303030303, 'carrera': 'Ingeniería en Computación', 'promedio': 9.8, 'materias': ['EDD', 'CyP', 'Calidad', 'Emprendimiento'], 'direccion': {'calle': 'rancho seco', 'numero': 23, 'delegacion': 'Neza', 'estado': {'id': 15, 'nombre': 'Estado de Máxico', 'nombre_corto': 'EdoMex'}, 'CP': 57170}}\n",
            "Juan Pedro\n"
          ],
          "name": "stdout"
        }
      ]
    },
    {
      "cell_type": "code",
      "metadata": {
        "id": "hxSEDuhOyAXc",
        "outputId": "6a3fd092-2e4a-4493-8b8c-263e075fe256",
        "colab": {
          "base_uri": "https://localhost:8080/",
          "height": 411
        }
      },
      "source": [
        "# key, value() & items()\n",
        "\n",
        "llaves = alumno.keys()\n",
        "print(llaves)\n",
        "for llave in llaves:\n",
        "  print(llave.upper())\n",
        "print (\"\\n__________\")\n",
        "valores = alumno.values()\n",
        "for val in valores:\n",
        "  print(val)\n",
        "\n",
        "pares = alumno.items()\n",
        "print(pares)\n",
        "for elem in pares:\n",
        "  print(f\"el campo {elem[0]} tiene el valor {elem [1]}\")\n"
      ],
      "execution_count": 21,
      "outputs": [
        {
          "output_type": "stream",
          "text": [
            "dict_keys(['num_cta', 'carrera', 'promedio', 'materias', 'direccion', 'nombre_completo'])\n",
            "NUM_CTA\n",
            "CARRERA\n",
            "PROMEDIO\n",
            "MATERIAS\n",
            "DIRECCION\n",
            "NOMBRE_COMPLETO\n",
            "\n",
            "__________\n",
            "303030303\n",
            "Ingeniería en Computación\n",
            "9.8\n",
            "['EDD', 'CyP', 'Calidad', 'Emprendimiento']\n",
            "{'calle': 'rancho seco', 'numero': 23, 'delegacion': 'Neza', 'estado': {'id': 15, 'nombre': 'Estado de Máxico', 'nombre_corto': 'EdoMex'}, 'CP': 57170}\n",
            "{'primer': 'Juan', 'segundo': 'Pedro', 'materno': 'Perez', 'paterno': 'Gómez'}\n",
            "dict_items([('num_cta', 303030303), ('carrera', 'Ingeniería en Computación'), ('promedio', 9.8), ('materias', ['EDD', 'CyP', 'Calidad', 'Emprendimiento']), ('direccion', {'calle': 'rancho seco', 'numero': 23, 'delegacion': 'Neza', 'estado': {'id': 15, 'nombre': 'Estado de Máxico', 'nombre_corto': 'EdoMex'}, 'CP': 57170}), ('nombre_completo', {'primer': 'Juan', 'segundo': 'Pedro', 'materno': 'Perez', 'paterno': 'Gómez'})])\n",
            "el campo num_cta tiene el valor 303030303\n",
            "el campo carrera tiene el valor Ingeniería en Computación\n",
            "el campo promedio tiene el valor 9.8\n",
            "el campo materias tiene el valor ['EDD', 'CyP', 'Calidad', 'Emprendimiento']\n",
            "el campo direccion tiene el valor {'calle': 'rancho seco', 'numero': 23, 'delegacion': 'Neza', 'estado': {'id': 15, 'nombre': 'Estado de Máxico', 'nombre_corto': 'EdoMex'}, 'CP': 57170}\n",
            "el campo nombre_completo tiene el valor {'primer': 'Juan', 'segundo': 'Pedro', 'materno': 'Perez', 'paterno': 'Gómez'}\n"
          ],
          "name": "stdout"
        }
      ]
    },
    {
      "cell_type": "code",
      "metadata": {
        "id": "AMVeRw9o07xb",
        "outputId": "cca3d69c-6998-4d0d-dc4e-ed1a67233e3d",
        "colab": {
          "base_uri": "https://localhost:8080/",
          "height": 54
        }
      },
      "source": [
        "#Concatenar Diccionarios\n",
        "\n",
        "computadora = {\"procesador\": \"intel i7\", \"ram\": \"Kingston 128GB\"}\n",
        "otros = {\"monitor\": \"LG 49\\\"\", \"hd\":\"Toshiba 1TB\"}\n",
        "computadora.update(otros)\n",
        "print(computadora)\n"
      ],
      "execution_count": 22,
      "outputs": [
        {
          "output_type": "stream",
          "text": [
            "{'procesador': 'intel i7', 'ram': 'Kingston 128GB', 'monitor': 'LG 49\"', 'hd': 'Toshiba 1TB'}\n"
          ],
          "name": "stdout"
        }
      ]
    },
    {
      "cell_type": "markdown",
      "metadata": {
        "id": "ewkKF80U2oBX"
      },
      "source": [
        "# Funciones\n",
        "- son unidades de código reutilizable\n",
        "- es un mécanismo de organización de código\n",
        "- una función que toma de 0 a n parametros de entrada\n",
        "- tiene una sola salida (return) de cualquier tipo de dato\n",
        "- solo puedes hacer dos cosas\n",
        "  - definirla\n",
        "  - llamarla\n",
        "- se definen con la palabra reservada 'def'"
      ]
    },
    {
      "cell_type": "code",
      "metadata": {
        "id": "Q0P6T6JGwVs6",
        "outputId": "c2322fc1-03de-46f8-9f4b-72e2406dc97f",
        "colab": {
          "base_uri": "https://localhost:8080/",
          "height": 170
        }
      },
      "source": [
        "def sumar(x, y):\n",
        "  resultado = x + y\n",
        "  return resultado\n",
        "\n",
        "def saludar (nombre):\n",
        "  print(f\" Hola{nombre}, ¿cómo estás?\")\n",
        "\n",
        "# Procesar None\n",
        "\n",
        "def multiplicar ( valor, veces):\n",
        "  if valor != None:\n",
        "    c = valor * veces\n",
        "  else:\n",
        "    c = \"operación no válida\" \n",
        "  return c\n",
        "\n",
        "def operación(a ,b , c):\n",
        "  res = a + (b / c)\n",
        "  return res\n",
        "\n",
        "\n",
        "print(sumar(10, 15))\n",
        "print(sumar (34, 12))\n",
        "\n",
        "saludar(\" Soy yo Ale\")\n",
        "print (multiplicar (5,6))\n",
        "\n",
        "print( multiplicar (None, 6))\n",
        "\n",
        "print(operación(2,9,3))\n",
        "print(operación(2,3,9))\n",
        "\n",
        "print(\" Ahora saldrá un pantallazo de como si tiene que salír bien\")\n",
        "#pero ahora si vamos a acomodar para que salga como el la primera operación\n",
        "print(operación(a=2,c=3, b= 9))\n",
        "\n"
      ],
      "execution_count": 33,
      "outputs": [
        {
          "output_type": "stream",
          "text": [
            "25\n",
            "46\n",
            " Hola Soy yo Ale, ¿cómo estás?\n",
            "30\n",
            "operación no válida\n",
            "5.0\n",
            "2.3333333333333335\n",
            " Ahora saldrá un pantallazo de como si tiene que salír bien\n",
            "5.0\n"
          ],
          "name": "stdout"
        }
      ]
    },
    {
      "cell_type": "code",
      "metadata": {
        "id": "BsQ8MOXz-hlS",
        "outputId": "2fc0adba-f17d-4a37-afdb-4289acf4e6d7",
        "colab": {
          "base_uri": "https://localhost:8080/",
          "height": 306
        }
      },
      "source": [
        "# Valores por defecto\n",
        "def comanda(primer, fuerte, postre = \" Galleta de animalito por pobre\" ):\n",
        "  print (f\"De entrada pidio{primer}\")\n",
        "  print (f\"De plato fuerte{fuerte}\")\n",
        "  print(f\"De postre kiere {postre}\")\n",
        "\n",
        "# AArgumentos posicionales con tuplas *\n",
        "def comanda_2(*opciones):\n",
        "  print(opciones)\n",
        "  print(f\"De entrada pidio{opciones[0]}\")\n",
        "  print(f\"De plato fuerte{opciones[1]}\")\n",
        "  print(f\"De postre kiere {opciones[2]}\")\n",
        "  print(\"\\nIndicaciiones Extra:\")\n",
        "  for ind in opciones[3::]:\n",
        "    print(f\"\\t{ind}\")\n",
        "\n",
        "\n",
        "comanda(\" Sopa do makako, uma delicia\", \" Tortas de papa\", \"Gelatina de limon\")\n",
        "#pero en algunos casos si no llamas a mandar nada, te va a dar el valor por defecto, ira\n",
        "print(\"________________________\")\n",
        "comanda(\" Sopa do makako\", \" Tortas de papa\")\n",
        "\n",
        "print(\"__________________\")\n",
        "\n",
        "#aquí pues ya hay un poco más de instrucciónes\n",
        "\n",
        "comanda_2(\" Sopa do makako\",\"tortas de papa\",\"gelatina de pou\",\n",
        "          \"Las tortas bien carbonizadas\", \"traer 23 limónes\", \"awa con yelo\")\n",
        "\n"
      ],
      "execution_count": 46,
      "outputs": [
        {
          "output_type": "stream",
          "text": [
            "De entrada pidio Sopa do makako, uma delicia\n",
            "De plato fuerte Tortas de papa\n",
            "De postre kiere Gelatina de limon\n",
            "________________________\n",
            "De entrada pidio Sopa do makako\n",
            "De plato fuerte Tortas de papa\n",
            "De postre kiere  Galleta de animalito por pobre\n",
            "__________________\n",
            "(' Sopa do makako', 'tortas de papa', 'gelatina de pou', 'Las tortas bien carbonizadas', 'traer 23 limónes', 'awa con yelp')\n",
            "De entrada pidio Sopa do makako\n",
            "De plato fuertetortas de papa\n",
            "De postre kiere gelatina de pou\n",
            "\n",
            "Indicaciiones Extra:\n",
            "\tLas tortas bien carbonizadas\n",
            "\ttraer 23 limónes\n",
            "\tawa con yelp\n"
          ],
          "name": "stdout"
        }
      ]
    },
    {
      "cell_type": "code",
      "metadata": {
        "id": "srBgOGIJB5Ow",
        "outputId": "75b1bbf1-e10f-43b1-f816-d7df2643e2c8",
        "colab": {
          "base_uri": "https://localhost:8080/",
          "height": 156
        }
      },
      "source": [
        "# argumentos posicionales con diccionarios **\n",
        "def comanda_3(**opciones):\n",
        "  print(opciones)\n",
        "  for op in opciones.items():\n",
        "    print(f\"{op[0]}->{op[1]}\")\n",
        "\n",
        "comanda_3(primer=\" Sopa do makako\",fuerte=\"tortas de papa\",postre=\"gelatina de pou\",\n",
        "          extra1=\"Las tortas bien carbonizadas\",extra2=\"traer 23 limónes\",extra3=\"awa con yelo\")\n"
      ],
      "execution_count": 52,
      "outputs": [
        {
          "output_type": "stream",
          "text": [
            "{'primer': ' Sopa do makako', 'fuerte': 'tortas de papa', 'postre': 'gelatina de pou', 'extra1': 'Las tortas bien carbonizadas', 'extra2': 'traer 23 limónes', 'extra3': 'awa con yelo'}\n",
            "primer-> Sopa do makako\n",
            "fuerte->tortas de papa\n",
            "postre->gelatina de pou\n",
            "extra1->Las tortas bien carbonizadas\n",
            "extra2->traer 23 limónes\n",
            "extra3->awa con yelo\n"
          ],
          "name": "stdout"
        }
      ]
    }
  ]
}
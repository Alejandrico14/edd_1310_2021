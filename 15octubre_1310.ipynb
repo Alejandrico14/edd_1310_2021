{
  "nbformat": 4,
  "nbformat_minor": 0,
  "metadata": {
    "colab": {
      "name": "15octubre_1310.ipynb",
      "provenance": [],
      "authorship_tag": "ABX9TyMu2yNX1AJApKCB68TCUc6H",
      "include_colab_link": true
    },
    "kernelspec": {
      "name": "python3",
      "display_name": "Python 3"
    }
  },
  "cells": [
    {
      "cell_type": "markdown",
      "metadata": {
        "id": "view-in-github",
        "colab_type": "text"
      },
      "source": [
        "<a href=\"https://colab.research.google.com/github/Alejandrico14/edd_1310_2021/blob/master/15octubre_1310.ipynb\" target=\"_parent\"><img src=\"https://colab.research.google.com/assets/colab-badge.svg\" alt=\"Open In Colab\"/></a>"
      ]
    },
    {
      "cell_type": "markdown",
      "metadata": {
        "id": "9mywdWE4B3dL"
      },
      "source": [
        "# Módulos\n",
        "Son recursos reutilizables que contienen varias funciones que pueden ser importadas a tu código\n",
        "\n"
      ]
    },
    {
      "cell_type": "code",
      "metadata": {
        "id": "kOclbgbLBUWV",
        "outputId": "e6e9e9df-fde6-42e2-face-5379b67e9bdc",
        "colab": {
          "base_uri": "https://localhost:8080/",
          "height": 52
        }
      },
      "source": [
        "#esto si sirve, pero se quiere usar el menos código posible en la siguiente linea\n",
        "\n",
        "\"\"\"\n",
        "import mi_modulo\n",
        "\n",
        "g = 13\n",
        "h = 12\n",
        "\n",
        "x = mi_modulo.sumar(g , h)\n",
        "\n",
        "print(x)\n",
        "\n",
        "print(mi_modulo.multiplicar(3,5))\n",
        "\"\"\"\n"
      ],
      "execution_count": 4,
      "outputs": [
        {
          "output_type": "execute_result",
          "data": {
            "application/vnd.google.colaboratory.intrinsic+json": {
              "type": "string"
            },
            "text/plain": [
              "'\\nimport mi_modulo\\n\\ng = 13\\nh = 12\\n\\nx = mi_modulo.sumar(g , h)\\n\\nprint(x)\\n\\nprint(mi_modulo.multiplicar(3,5))\\n'"
            ]
          },
          "metadata": {
            "tags": []
          },
          "execution_count": 4
        }
      ]
    },
    {
      "cell_type": "code",
      "metadata": {
        "id": "EpvFWBj2KRjZ",
        "outputId": "98f90e3d-b628-4ad5-b3ac-0022d3e4a1bb",
        "colab": {
          "base_uri": "https://localhost:8080/",
          "height": 34
        }
      },
      "source": [
        "from mi_modulo import sumar\n",
        "\n",
        "print(sumar(4, 7))\n"
      ],
      "execution_count": 5,
      "outputs": [
        {
          "output_type": "stream",
          "text": [
            "11\n"
          ],
          "name": "stdout"
        }
      ]
    },
    {
      "cell_type": "code",
      "metadata": {
        "id": "jXXkerd0LTCz",
        "outputId": "287e7ad9-618c-4bf5-8e5b-f005b94ea161",
        "colab": {
          "base_uri": "https://localhost:8080/",
          "height": 34
        }
      },
      "source": [
        "#se le pueden poner alias a los modulos\n",
        "\n",
        "import mi_modulo as patito\n",
        "\n",
        "print(patito.sumar (4, 6))\n"
      ],
      "execution_count": 6,
      "outputs": [
        {
          "output_type": "stream",
          "text": [
            "10\n"
          ],
          "name": "stdout"
        }
      ]
    },
    {
      "cell_type": "code",
      "metadata": {
        "id": "dVpkYzyRL7gp",
        "outputId": "8c91424f-4e18-44ab-aa22-24aa2cab231c",
        "colab": {
          "base_uri": "https://localhost:8080/",
          "height": 51
        }
      },
      "source": [
        "#importar solo algunas funciones del modulo\n",
        "\n",
        "from mi_modulo import sumar, dividir\n",
        "\n",
        "print(sumar(10, 80))\n",
        "print(dividir (500, 25 ))"
      ],
      "execution_count": 8,
      "outputs": [
        {
          "output_type": "stream",
          "text": [
            "90\n",
            "20.0\n"
          ],
          "name": "stdout"
        }
      ]
    },
    {
      "cell_type": "code",
      "metadata": {
        "id": "muymsV9LOA5i",
        "outputId": "f1a4340b-2109-4915-9e05-212c3884b0d9",
        "colab": {
          "base_uri": "https://localhost:8080/",
          "height": 34
        }
      },
      "source": [
        "pip --version"
      ],
      "execution_count": 10,
      "outputs": [
        {
          "output_type": "stream",
          "text": [
            "pip 19.3.1 from /usr/local/lib/python3.6/dist-packages/pip (python 3.6)\n"
          ],
          "name": "stdout"
        }
      ]
    },
    {
      "cell_type": "code",
      "metadata": {
        "id": "DZLuGcn_OHtr",
        "outputId": "fa5d1cbc-4572-4a4b-94c5-c74f178e0eed",
        "colab": {
          "base_uri": "https://localhost:8080/",
          "height": 275
        }
      },
      "source": [
        "pip install joke-generator"
      ],
      "execution_count": 11,
      "outputs": [
        {
          "output_type": "stream",
          "text": [
            "Collecting joke-generator\n",
            "  Downloading https://files.pythonhosted.org/packages/95/e5/de76c4aff315ad38ab69cd25ea942250a51008e910905c1f8ef80265b15b/joke_generator-1.0.1.tar.gz\n",
            "Requirement already satisfied: requests>=2.22.0 in /usr/local/lib/python3.6/dist-packages (from joke-generator) (2.23.0)\n",
            "Requirement already satisfied: urllib3!=1.25.0,!=1.25.1,<1.26,>=1.21.1 in /usr/local/lib/python3.6/dist-packages (from requests>=2.22.0->joke-generator) (1.24.3)\n",
            "Requirement already satisfied: chardet<4,>=3.0.2 in /usr/local/lib/python3.6/dist-packages (from requests>=2.22.0->joke-generator) (3.0.4)\n",
            "Requirement already satisfied: certifi>=2017.4.17 in /usr/local/lib/python3.6/dist-packages (from requests>=2.22.0->joke-generator) (2020.6.20)\n",
            "Requirement already satisfied: idna<3,>=2.5 in /usr/local/lib/python3.6/dist-packages (from requests>=2.22.0->joke-generator) (2.10)\n",
            "Building wheels for collected packages: joke-generator\n",
            "  Building wheel for joke-generator (setup.py) ... \u001b[?25l\u001b[?25hdone\n",
            "  Created wheel for joke-generator: filename=joke_generator-1.0.1-cp36-none-any.whl size=2075 sha256=a5717e7090722f3cb69319ed8501c9a6c16e7558aa099af33b5eea0a0fb114e4\n",
            "  Stored in directory: /root/.cache/pip/wheels/b1/e1/1c/42a5a669d05834c31aab52f6f87b1c7d50718f7669d51bd347\n",
            "Successfully built joke-generator\n",
            "Installing collected packages: joke-generator\n",
            "Successfully installed joke-generator-1.0.1\n"
          ],
          "name": "stdout"
        }
      ]
    },
    {
      "cell_type": "code",
      "metadata": {
        "id": "3yMiLBqLPsTz",
        "outputId": "7fbabeb1-7e0a-4a14-f1aa-8e617ecc68d9",
        "colab": {
          "base_uri": "https://localhost:8080/",
          "height": 35
        }
      },
      "source": [
        "from joke_generator import generate\n",
        "\n",
        "generate()"
      ],
      "execution_count": 14,
      "outputs": [
        {
          "output_type": "execute_result",
          "data": {
            "application/vnd.google.colaboratory.intrinsic+json": {
              "type": "string"
            },
            "text/plain": [
              "'A book just fell on my head. I only have my shelf to blame.'"
            ]
          },
          "metadata": {
            "tags": []
          },
          "execution_count": 14
        }
      ]
    },
    {
      "cell_type": "code",
      "metadata": {
        "id": "6FWDgF6LThO2"
      },
      "source": [
        ""
      ],
      "execution_count": null,
      "outputs": []
    },
    {
      "cell_type": "markdown",
      "metadata": {
        "id": "GsxxsEZjSPl2"
      },
      "source": [
        "# Archivos\n",
        "- open (str , str)\n",
        "  1. Nombre o ruta del archivo\n",
        "  2. dos caracteres\n",
        "    - modo de apertura del archivo\n",
        "archivo (r, w , a appen solo si el archivo existe , x apend si solo el archivo no existe)\n",
        "    - Formato del archivo (Texto o binario)\n",
        "\n",
        "\n"
      ]
    },
    {
      "cell_type": "code",
      "metadata": {
        "id": "7kHBu7KQTcLu"
      },
      "source": [
        "archivo = open(\"saludo.txt\", \"wt\")\n",
        "archivo.write(\"Hola mundo \\n ola q ase\")\n",
        "archivo.close()"
      ],
      "execution_count": 16,
      "outputs": []
    },
    {
      "cell_type": "code",
      "metadata": {
        "id": "rjl_yjvdUf7j"
      },
      "source": [
        "otro = open('./sample_data/anscombe.json','rt' )\n",
        "datos = otro.read()\n",
        "print(datos)\n",
        "otro.close()"
      ],
      "execution_count": null,
      "outputs": []
    },
    {
      "cell_type": "code",
      "metadata": {
        "id": "qfi9USfcWVpM",
        "outputId": "81561550-8126-4062-81f7-5972a35d3abd",
        "colab": {
          "base_uri": "https://localhost:8080/",
          "height": 136
        }
      },
      "source": [
        "arch = open ('frutas.txt','rt')\n",
        "# se pone el data para que la cadena entre vaciá.\n",
        "data = 'ppp'\n",
        "while (data != ''):\n",
        "  data = arch.readline()\n",
        "  print(data)\n",
        "\n",
        "arch.close\n",
        "\n",
        "arch = open ('frutas.txt','rt')\n",
        "list_frutas  = arch.readlines()\n",
        "print(list_frutas)\n",
        "arch.close()\n"
      ],
      "execution_count": 28,
      "outputs": [
        {
          "output_type": "stream",
          "text": [
            "manzana,pera,kiwi, aguacate\n",
            "\n",
            ", limón, naranja,\n",
            "\n",
            "sandía, papaya\n",
            "\n"
          ],
          "name": "stdout"
        },
        {
          "output_type": "execute_result",
          "data": {
            "text/plain": [
              "<function TextIOWrapper.close>"
            ]
          },
          "metadata": {
            "tags": []
          },
          "execution_count": 28
        }
      ]
    }
  ]
}
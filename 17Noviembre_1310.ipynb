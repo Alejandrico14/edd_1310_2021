{
  "nbformat": 4,
  "nbformat_minor": 0,
  "metadata": {
    "colab": {
      "name": "17Noviembre_1310.ipynb",
      "provenance": [],
      "authorship_tag": "ABX9TyO8bmKCInOwY8uI3BfWX7+t",
      "include_colab_link": true
    },
    "kernelspec": {
      "name": "python3",
      "display_name": "Python 3"
    }
  },
  "cells": [
    {
      "cell_type": "markdown",
      "metadata": {
        "id": "view-in-github",
        "colab_type": "text"
      },
      "source": [
        "<a href=\"https://colab.research.google.com/github/Alejandrico14/edd_1310_2021/blob/master/17Noviembre_1310.ipynb\" target=\"_parent\"><img src=\"https://colab.research.google.com/assets/colab-badge.svg\" alt=\"Open In Colab\"/></a>"
      ]
    },
    {
      "cell_type": "code",
      "metadata": {
        "colab": {
          "base_uri": "https://localhost:8080/",
          "height": 129
        },
        "id": "SMlCpIIrYREj",
        "outputId": "19986c80-8069-48a3-fc4d-e7a2e1cad744"
      },
      "source": [
        "class Nodo:\n",
        "    def __init__( self , value , siguiente= None):\n",
        "        self.data = value # le hace falta encapsulamiento\n",
        "        self.siguiente = siguiente\n",
        "\n",
        "class LinkedList:\n",
        "    def __init__( self ): \n",
        "        self.__head = None\n",
        "\n",
        "    def is_empty( self ):\n",
        "        return self.__head == None\n",
        "\n",
        "    def append( self, value ):\n",
        "        nuevo = Nodo( value )\n",
        "        if self.__head == None: #aquí añaden nodos\n",
        "            self.__head = nuevo\n",
        "        else:\n",
        "            curr_node = self.__head \n",
        "            while curr_node.siguiente != None:\n",
        "                curr_node = curr_node.siguiente\n",
        "            curr_node.siguiente = nuevo\n",
        "\n",
        "    def transversal ( self ):\n",
        "        curr_node = self.__head\n",
        "        while curr_node != None:\n",
        "            print(f\"{curr_node.data} ->\" , end=\"\")\n",
        "            curr_node = curr_node.siguiente\n",
        "        print(\"\")  \n",
        " \n",
        "    def remove(self,value ):\n",
        "        curr_node = self.__head\n",
        "        while curr_node.data != value and curr_node.siguiente != None:\n",
        "            curr_node = curr_node.siguiente\n",
        "        if curr_node.data == value:\n",
        "    \n",
        "    \n",
        "l = LinkedList()\n",
        "print(f\"L esta vacía? {l.is_empty()}\")\n",
        "l.append(10)\n",
        "l.append(5)\n",
        "l.append(6)\n",
        "l.append(20)\n",
        "l.append(22)\n",
        "\n",
        "print(f\"L está vacía? {l.is_empty()}\")\n",
        "\n",
        "l.transversal()\n"
      ],
      "execution_count": 33,
      "outputs": [
        {
          "output_type": "error",
          "ename": "IndentationError",
          "evalue": "ignored",
          "traceback": [
            "\u001b[0;36m  File \u001b[0;32m\"<ipython-input-33-ac1df74bee18>\"\u001b[0;36m, line \u001b[0;32m39\u001b[0m\n\u001b[0;31m    l = LinkedList()\u001b[0m\n\u001b[0m                    ^\u001b[0m\n\u001b[0;31mIndentationError\u001b[0m\u001b[0;31m:\u001b[0m expected an indented block\n"
          ]
        }
      ]
    }
  ]
}
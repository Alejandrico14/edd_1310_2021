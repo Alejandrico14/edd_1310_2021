{
  "nbformat": 4,
  "nbformat_minor": 0,
  "metadata": {
    "colab": {
      "name": "Listas_circulares.ipynb",
      "provenance": [],
      "authorship_tag": "ABX9TyN2y1cEcgqHws4DC7Pqv1y+",
      "include_colab_link": true
    },
    "kernelspec": {
      "name": "python3",
      "display_name": "Python 3"
    }
  },
  "cells": [
    {
      "cell_type": "markdown",
      "metadata": {
        "id": "view-in-github",
        "colab_type": "text"
      },
      "source": [
        "<a href=\"https://colab.research.google.com/github/Alejandrico14/edd_1310_2021/blob/master/Listas_circulares.ipynb\" target=\"_parent\"><img src=\"https://colab.research.google.com/assets/colab-badge.svg\" alt=\"Open In Colab\"/></a>"
      ]
    },
    {
      "cell_type": "code",
      "metadata": {
        "colab": {
          "base_uri": "https://localhost:8080/"
        },
        "id": "1eXAui9EIlJC",
        "outputId": "48bf731e-e5c0-4219-e0f8-2a3211179f3f"
      },
      "source": [
        "class Nodo():\n",
        "\n",
        "  def __init__(self,dato):\n",
        "    self.dato = dato\n",
        "    self.siguiente = None\n",
        "\n",
        "class Lista_Sr_culito():\n",
        "  \n",
        "  def __init__(self,dato):\n",
        "    self.dato = dato\n",
        "    self.siguiente = None\n",
        "\n",
        "  def __init__(self):\n",
        "    self.primero = None\n",
        "    self.ultimo = None\n",
        "\n",
        "  def Vacio ( self):\n",
        "    return self.primero == None\n",
        "  \n",
        "  def Agregar(self,dato): #Con este método agragamos las cosa Únicamente al inicio.\n",
        "    if self.Vacio():\n",
        "         self.primero = self.ultimo = Nodo(dato)\n",
        "         self.ultimo.siguiente = self.primero\n",
        "\n",
        "    else:\n",
        "      aux = Nodo(dato)\n",
        "      aux.siguiente = self.primero\n",
        "      self.primero = aux\n",
        "      self.ultimo.siguiente = self.primero\n",
        "\n",
        "  def AgregarEnd(self,dato):#Esto es para agragar unicamente al final nuestros datos\n",
        "    if self.Vacio():\n",
        "      self.primero = self.ultimo = Nodo(dato)\n",
        "      self.ultimo.siguiente = self.primero\n",
        "    else:\n",
        "      aux = self.ultimo\n",
        "      self.ultimo = aux.siguiente = Nodo(dato)\n",
        "      self.ultimo.siguiente = self.primero\n",
        "\n",
        "  def Showmaker(self): #Esto es lo que nos va a mostrar todos nuestros datos\n",
        "    aux = self.primero\n",
        "    while aux:\n",
        "      print(aux.dato)\n",
        "      aux = aux.siguiente\n",
        "      if aux == self.primero:\n",
        "        break\n",
        "\n",
        "  def Quitar_inicio(self):\n",
        "    if self.Vacio():\n",
        "      print(\"AKI NO HAY NADAAA UwU\")\n",
        "    elif self.primero == self.ultimo:\n",
        "        self.primero = self.ultimo = None\n",
        "    else:\n",
        "      self.primero = self.primero.siguiente\n",
        "      self.ultimo.siguiente = self.primero\n",
        "\n",
        "  def Kitar_final(self):\n",
        "    if self.Vacio():\n",
        "      print(\"Naa de na chapo\")\n",
        "    elif self.primero == self.ultimo:\n",
        "        self.primero = self.ultimo = None\n",
        "    else:\n",
        "        aux = self.primero\n",
        "        while aux.siguiente != self.ultimo:\n",
        "          aux = aux.siguiente\n",
        "        aux.siguiente = self.primero\n",
        "        self.ultimo = aux\n",
        "#Aquí ejecutamos todo\n",
        "l = Lista_Sr_culito()\n",
        "\n",
        "l.Agregar(20)\n",
        "l.AgregarEnd(1000)\n",
        "l.Agregar(100)\n",
        "\n",
        "l.Showmaker()\n",
        "print(\"-----------------------\")\n",
        "print(\"Wacha, voy a quitar unos datos\")\n",
        "l.Quitar_inicio()\n",
        "l.Kitar_final()\n",
        "\n",
        "l.Showmaker()\n",
        "print(\"WOUK, Solo quedó el 20!\")"
      ],
      "execution_count": 14,
      "outputs": [
        {
          "output_type": "stream",
          "text": [
            "100\n",
            "20\n",
            "1000\n",
            "-----------------------\n",
            "Wacha, voy a quitar unos datos\n",
            "20\n"
          ],
          "name": "stdout"
        }
      ]
    }
  ]
}
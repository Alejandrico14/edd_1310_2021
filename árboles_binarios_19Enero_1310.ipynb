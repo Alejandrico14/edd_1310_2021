{
  "nbformat": 4,
  "nbformat_minor": 0,
  "metadata": {
    "colab": {
      "name": "árboles_binarios_19Enero_1310.ipynb",
      "provenance": [],
      "authorship_tag": "ABX9TyPrJ11blnENqW0Mq6kRtISu",
      "include_colab_link": true
    },
    "kernelspec": {
      "name": "python3",
      "display_name": "Python 3"
    }
  },
  "cells": [
    {
      "cell_type": "markdown",
      "metadata": {
        "id": "view-in-github",
        "colab_type": "text"
      },
      "source": [
        "<a href=\"https://colab.research.google.com/github/Alejandrico14/edd_1310_2021/blob/master/%C3%A1rboles_binarios_19Enero_1310.ipynb\" target=\"_parent\"><img src=\"https://colab.research.google.com/assets/colab-badge.svg\" alt=\"Open In Colab\"/></a>"
      ]
    },
    {
      "cell_type": "code",
      "metadata": {
        "colab": {
          "base_uri": "https://localhost:8080/"
        },
        "id": "fiecbpr_umZD",
        "outputId": "3f19a419-fa7e-4d10-a46b-633cc96a238d"
      },
      "source": [
        "class NodoArbol:\r\n",
        "  def __init__(self, value, left = None, right = None):\r\n",
        "    self.data = value\r\n",
        "    self.left = left\r\n",
        "    self.right = right \r\n",
        "    \r\n",
        "class BinarySeachTree:\r\n",
        "  def __init__( self ):\r\n",
        "    self.__root = None\r\n",
        "\r\n",
        "  def insert( self, value):\r\n",
        "    # regla 1\r\n",
        "    if self.__root == None: # es lo mismo decir \"self.__root is None\"\r\n",
        "      self.__root == NodoArbol(value, None, None)\r\n",
        "    # regla 2\r\n",
        "    else:\r\n",
        "      self.__insert__( self.__root , value)\r\n",
        "\r\n",
        "  def __insert__(self, nodo, value):\r\n",
        "    if nodo.data == value: \r\n",
        "      print(\"El dato ya existe, no se ingresa nada\")\r\n",
        "      #ESTO ES PARA EL NODO IZQUIERDO\r\n",
        "    elif value < nodo.data: \r\n",
        "      #regla 1 recursiva\r\n",
        "      if nodo.left == None:\r\n",
        "        nodo.left = NodoArbol(value)\r\n",
        "      #regla 2 recursiva\r\n",
        "      else:\r\n",
        "        self.__insert__(nodo.left, value)\r\n",
        "        #ESTO YA ES PARA EL NODO DERECHO\r\n",
        "    else:\r\n",
        "      if nodo.right == None:\r\n",
        "        nodo.right = NodoArbol(value)\r\n",
        "      else:\r\n",
        "        self.__insert__(nodo.right, value)\r\n",
        "        # Done\r\n",
        "\r\n",
        "  def __recorrido_in(self, nodo):\r\n",
        "    if nodo!= None:\r\n",
        "      self.__recorrido_in (nodo.left)\r\n",
        "      print(nodo.data, end=\",\")\r\n",
        "      self.__recorrrido_in (nodo.right)\r\n",
        "  \r\n",
        "  def transversal( self, format = \"inorden\"):\r\n",
        "    if format  == \"inorden\":\r\n",
        "      self.__recorrido_in(self.__root)\r\n",
        "    elif format  == \"preorden\":\r\n",
        "      print(\"Recorrido en pre\")\r\n",
        "    elif format == \"posorden\":\r\n",
        "      print( \"Recorrido en Posorden\")\r\n",
        "    else:\r\n",
        "      print(\"Error, ese formato no existe\")\r\n",
        "    print(\"\")\r\n",
        "    \r\n",
        "\r\n",
        "\r\n",
        "#PruebasAbb\r\n",
        "#from arboles_binarios import BinarySearchTree\r\n",
        "\r\n",
        "\r\n",
        "abb = BinarySeachTree()\r\n",
        "abb.insert(50)\r\n",
        "abb.insert(30)\r\n",
        "abb.insert(60)\r\n",
        "abb.insert(35)\r\n",
        "abb.insert(89)\r\n",
        "\r\n",
        "abb.transversal()"
      ],
      "execution_count": null,
      "outputs": [
        {
          "output_type": "stream",
          "text": [
            "\n"
          ],
          "name": "stdout"
        }
      ]
    }
  ]
}
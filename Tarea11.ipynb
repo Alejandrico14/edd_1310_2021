{
  "nbformat": 4,
  "nbformat_minor": 0,
  "metadata": {
    "colab": {
      "name": "Tarea11.ipynb",
      "provenance": [],
      "authorship_tag": "ABX9TyOje4Wg+wmPq084oNv/RT/s",
      "include_colab_link": true
    },
    "kernelspec": {
      "name": "python3",
      "display_name": "Python 3"
    }
  },
  "cells": [
    {
      "cell_type": "markdown",
      "metadata": {
        "id": "view-in-github",
        "colab_type": "text"
      },
      "source": [
        "<a href=\"https://colab.research.google.com/github/Alejandrico14/edd_1310_2021/blob/master/Tarea11.ipynb\" target=\"_parent\"><img src=\"https://colab.research.google.com/assets/colab-badge.svg\" alt=\"Open In Colab\"/></a>"
      ]
    },
    {
      "cell_type": "code",
      "metadata": {
        "colab": {
          "base_uri": "https://localhost:8080/"
        },
        "id": "M06AzCEg2_Ct",
        "outputId": "f4471d55-7413-4515-b1b6-742921d081ed"
      },
      "source": [
        "def back_in_time(numero):\r\n",
        "  numero -= 1\r\n",
        "  if numero >0:\r\n",
        "    print(numero)\r\n",
        "    back_in_time(numero)\r\n",
        "  else:\r\n",
        "    print(\"esto es un cero\")\r\n",
        "\r\n",
        "back_in_time(5)\r\n",
        "\r\n"
      ],
      "execution_count": null,
      "outputs": [
        {
          "output_type": "stream",
          "text": [
            "4\n",
            "3\n",
            "2\n",
            "1\n",
            "esto es un cero\n"
          ],
          "name": "stdout"
        }
      ]
    },
    {
      "cell_type": "markdown",
      "metadata": {
        "id": "kCT7coTK9qJJ"
      },
      "source": [
        "Hacer una función recursiva que reciba de entrada una pila con al menos 3 elementos y con recursividad elimine el elemento en la posición media."
      ]
    },
    {
      "cell_type": "code",
      "metadata": {
        "colab": {
          "base_uri": "https://localhost:8080/"
        },
        "id": "bGa8FTQY9vuR",
        "outputId": "1e6c9986-ac8c-4b42-cf4e-f6862405ef98"
      },
      "source": [
        "class Stack:\r\n",
        "    def __init__(self):\r\n",
        "        self.__data= []\r\n",
        "        \r\n",
        "\r\n",
        "    def is_empty(self):\r\n",
        "        return len(self.__data)==0\r\n",
        "\r\n",
        "    def length(self):\r\n",
        "        return len(self.__data)\r\n",
        "\r\n",
        "    def pop(self):\r\n",
        "        if self.is_empty():\r\n",
        "            print(\"Fila vacia\")\r\n",
        "        else:\r\n",
        "            return self.__data.pop()\r\n",
        "    def push(self,value):\r\n",
        "        self.__data.append(value)\r\n",
        "\r\n",
        "    def peek(self):\r\n",
        "        return self.__data[len(self.__data)-1]\r\n",
        "\r\n",
        "    def to_string(self):\r\n",
        "        print(\"-----\")\r\n",
        "        for item in self.__data[::-1]: \r\n",
        "            print(f\"| {item} |\")\r\n",
        "            print(\"-----\")\r\n",
        "\r\n",
        "    def quitar(pila, size, curr) :\r\n",
        "        if (pila.is_empty() or curr == size) :\r\n",
        "            return\r\n",
        "        x = pila.peek()\r\n",
        "        pila.pop()\r\n",
        "        quitar(pila, size, curr+1)\r\n",
        "        m=(size/2)\r\n",
        "        if m == int(m):\r\n",
        "            if (curr != m and curr != (m-1)):\r\n",
        "                pila.push(x)\r\n",
        "        else:\r\n",
        "            if (curr != int(size/2)) :\r\n",
        "               pila.push(x)\r\n",
        "\r\n",
        "\r\n",
        "def main2():\r\n",
        "    s = Stack()\r\n",
        "    s.push('1')\r\n",
        "    s.push('1')\r\n",
        "    s.push('1')\r\n",
        "    s.push('0')#Este es el que se quita\r\n",
        "    s.push('1')\r\n",
        "    s.push('1')\r\n",
        "    s.push('1')\r\n",
        "    print(\"---Pila de unos ---\")\r\n",
        "    s.to_string()\r\n",
        "    print('---> Quitar el cero <---')\r\n",
        "\r\n",
        "    print(\"---Pila de unos---\")\r\n",
        "    quitar(s, s.length(), 0)\r\n",
        "    s.to_string()\r\n",
        "\r\n",
        "main2()"
      ],
      "execution_count": 26,
      "outputs": [
        {
          "output_type": "stream",
          "text": [
            "---Pila de unos ---\n",
            "-----\n",
            "| 1 |\n",
            "-----\n",
            "| 1 |\n",
            "-----\n",
            "| 1 |\n",
            "-----\n",
            "| 0 |\n",
            "-----\n",
            "| 1 |\n",
            "-----\n",
            "| 1 |\n",
            "-----\n",
            "| 1 |\n",
            "-----\n",
            "---> Quitar el cero <---\n",
            "---Pila de unos---\n",
            "-----\n",
            "| 1 |\n",
            "-----\n",
            "| 1 |\n",
            "-----\n",
            "| 1 |\n",
            "-----\n",
            "| 1 |\n",
            "-----\n",
            "| 1 |\n",
            "-----\n",
            "| 1 |\n",
            "-----\n"
          ],
          "name": "stdout"
        }
      ]
    }
  ]
}
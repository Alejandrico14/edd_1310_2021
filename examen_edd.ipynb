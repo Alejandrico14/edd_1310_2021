{
  "nbformat": 4,
  "nbformat_minor": 0,
  "metadata": {
    "colab": {
      "name": "examen_edd.ipynb",
      "provenance": [],
      "authorship_tag": "ABX9TyNxGBL9DRE8SHNGMUaJg9DF",
      "include_colab_link": true
    },
    "kernelspec": {
      "name": "python3",
      "display_name": "Python 3"
    }
  },
  "cells": [
    {
      "cell_type": "markdown",
      "metadata": {
        "id": "view-in-github",
        "colab_type": "text"
      },
      "source": [
        "<a href=\"https://colab.research.google.com/github/Alejandrico14/edd_1310_2021/blob/master/examen_edd.ipynb\" target=\"_parent\"><img src=\"https://colab.research.google.com/assets/colab-badge.svg\" alt=\"Open In Colab\"/></a>"
      ]
    },
    {
      "cell_type": "code",
      "metadata": {
        "colab": {
          "base_uri": "https://localhost:8080/"
        },
        "id": "D3SatkDm7TOO",
        "outputId": "6b4ae62d-dd59-4d0a-db34-1f0451d09f89"
      },
      "source": [
        "class nodo:\r\n",
        "    def __init__(self, valor, siguiente= None):\r\n",
        "        self.dato=valor\r\n",
        "        self.siguiente=siguiente\r\n",
        "\r\n",
        "class linked_list:\r\n",
        "    def __init__(self):\r\n",
        "        self.__head= None\r\n",
        "        self.__contador=0\r\n",
        "    def is_empty(self):\r\n",
        "        return self.__head==None\r\n",
        "    def append (self,value):\r\n",
        "        nuevo=nodo(value)\r\n",
        "        if self.__head==None:\r\n",
        "            self.__head=nuevo\r\n",
        "        else:\r\n",
        "            curr_node=self.__head\r\n",
        "            while curr_node.siguiente !=None:\r\n",
        "                curr_node=curr_node.siguiente\r\n",
        "            curr_node.siguiente=nuevo\r\n",
        "        self.__contador=self.__contador+1\r\n",
        "#------\r\n",
        "    def insert(self, value, pos):\r\n",
        "      if self.__head!=None:\r\n",
        "        if  pos==0:\r\n",
        "          nuevo=nodo(value,self.__head)\r\n",
        "          self.__head=nuevo\r\n",
        "        elif pos<=self.__contador:\r\n",
        "          nuevo=nodo(value)\r\n",
        "          curr_node=self.__head\r\n",
        "          anterior=None\r\n",
        "          cont=0\r\n",
        "          while cont<pos:\r\n",
        "            anterior=curr_node\r\n",
        "            curr_node=curr_node.siguiente\r\n",
        "            cont=cont+1\r\n",
        "          anterior.siguiente=nuevo\r\n",
        "          nuevo.siguiente=curr_node\r\n",
        "          self.__contador=self.__contador+1\r\n",
        "        else:\r\n",
        "          print(\"la lista no es tan grande\")\r\n",
        "      else:\r\n",
        "        print(\"no hay lista\")\r\n",
        "#--------------\r\n",
        "    def transversal(self):\r\n",
        "        curr_node=self.__head\r\n",
        "        while curr_node != None:\r\n",
        "            print(f\"{curr_node.dato}->\",end=\"\")\r\n",
        "            curr_node=curr_node.siguiente\r\n",
        "        print(\"\")\r\n",
        "    def remove(self,value):\r\n",
        "      curr_node=self.__head\r\n",
        "      if self.__head.dato==value:\r\n",
        "        self.__head=self.__head.siguiente\r\n",
        "      else:\r\n",
        "        anterior=None\r\n",
        "        while curr_node.dato !=value and curr_node.siguiente:\r\n",
        "          anterior=curr_node\r\n",
        "          curr_node=curr_node.siguiente\r\n",
        "        if curr_node.dato== value:\r\n",
        "          anterior.siguiente=curr_node.siguiente\r\n",
        "          self.__contador=self.__contador-1\r\n",
        "        else:\r\n",
        "          print(\"el dato no existe\")\r\n",
        "    def cont(self):\r\n",
        "      return self.__contador\r\n",
        "\r\n",
        "#Operaciónes\r\n",
        "\r\n",
        "ADT=linked_list()\r\n",
        "ADT.append(26)\r\n",
        "ADT.append(15)\r\n",
        "ADT.append(80)\r\n",
        "ADT.append(10)\r\n",
        "ADT.transversal()\r\n",
        "ADT.insert(28,2)\r\n",
        "ADT.transversal()\r\n",
        "ADT.remove(80)\r\n",
        "ADT.transversal()\r\n"
      ],
      "execution_count": 2,
      "outputs": [
        {
          "output_type": "stream",
          "text": [
            "26->15->80->10->\n",
            "26->15->28->80->10->\n",
            "26->15->28->10->\n"
          ],
          "name": "stdout"
        }
      ]
    }
  ]
}
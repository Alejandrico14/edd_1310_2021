{
  "nbformat": 4,
  "nbformat_minor": 0,
  "metadata": {
    "colab": {
      "name": "20octubre_1310.ipynb",
      "provenance": [],
      "authorship_tag": "ABX9TyN78dMbrx1yvpXvG7daWnHg",
      "include_colab_link": true
    },
    "kernelspec": {
      "name": "python3",
      "display_name": "Python 3"
    }
  },
  "cells": [
    {
      "cell_type": "markdown",
      "metadata": {
        "id": "view-in-github",
        "colab_type": "text"
      },
      "source": [
        "<a href=\"https://colab.research.google.com/github/Alejandrico14/edd_1310_2021/blob/master/20octubre_1310.ipynb\" target=\"_parent\"><img src=\"https://colab.research.google.com/assets/colab-badge.svg\" alt=\"Open In Colab\"/></a>"
      ]
    },
    {
      "cell_type": "code",
      "metadata": {
        "id": "6aGKY2Vdy4tU",
        "outputId": "87fa212d-228b-408f-a999-43fa7c0c47c2",
        "colab": {
          "base_uri": "https://localhost:8080/",
          "height": 272
        }
      },
      "source": [
        "archivo = open('numeros','rt')\n",
        "for linea in archivo.readlines():\n",
        "  #print(linea)\n",
        "  for trunc in linea.split(','):\n",
        "    print(int(trunc.strip()))"
      ],
      "execution_count": 4,
      "outputs": [
        {
          "output_type": "stream",
          "text": [
            "23\n",
            "23\n",
            "44\n",
            "55\n",
            "5\n",
            "44\n",
            "4\n",
            "5\n",
            "7\n",
            "7\n",
            "6\n",
            "5\n",
            "4\n",
            "2\n",
            "1\n"
          ],
          "name": "stdout"
        }
      ]
    },
    {
      "cell_type": "markdown",
      "metadata": {
        "id": "ahmTljh82rX7"
      },
      "source": [
        "# Sintaxis de for en python\n",
        "dos versiones de for\n",
        "\n",
        "1. range\n",
        "2. in iterator\n",
        "\n"
      ]
    },
    {
      "cell_type": "code",
      "metadata": {
        "id": "tshL7K_A22LT",
        "outputId": "9d169e58-0367-4a8c-8c44-3bcb662c696c",
        "colab": {
          "base_uri": "https://localhost:8080/",
          "height": 289
        }
      },
      "source": [
        "r = range(0,10, 2)\n",
        "\n",
        "for x in r:\n",
        "  print(x)\n",
        "\n",
        "\n",
        "\n",
        "colores = ['rojo','rosa', 'morado','fiucha']#for (indice = 0; indice <4;indice++)\n",
        "\n",
        "#regularmente esta versión se usa para modificar los valores internos\n",
        "\n",
        "for indice in range(0,4,1): #si aquí ponemos un len va a tomar todos los caracteres de la lista\n",
        "    print(colores[indice])\n",
        "\n",
        "    #print (colores[indice])\n",
        "    colores[indice]= colores[indice].upper()\n",
        "    colores[indice]= colores[indice] + str(indice)\n",
        "print(\"\\nya con iterador___________\\n\")\n",
        "\n",
        "#print (colores[indice])\n",
        "\n",
        "\n",
        "# for sobre un iterador\n",
        "\n",
        "for col in colores:\n",
        "  print(col)"
      ],
      "execution_count": 28,
      "outputs": [
        {
          "output_type": "stream",
          "text": [
            "0\n",
            "2\n",
            "4\n",
            "6\n",
            "8\n",
            "rojo\n",
            "rosa\n",
            "morado\n",
            "fiucha\n",
            "\n",
            "ya con iterador___________\n",
            "\n",
            "ROJO0\n",
            "ROSA1\n",
            "MORADO2\n",
            "FIUCHA3\n"
          ],
          "name": "stdout"
        }
      ]
    },
    {
      "cell_type": "markdown",
      "metadata": {
        "id": "xVQZKw038PQY"
      },
      "source": [
        "# Generadores\n",
        "[valor for x in range (10)]\n",
        "['hola' for x in range (10)\n",
        "\n",
        "[[0, 0 , 0],\n",
        " [0, 0 , 0],\n",
        " [0, 0 , 0]]\n",
        "\n",
        " 3x3"
      ]
    },
    {
      "cell_type": "code",
      "metadata": {
        "id": "AyqYxK9y9VFh",
        "outputId": "b774a0b7-1410-4a32-fff2-6942e0940327",
        "colab": {
          "base_uri": "https://localhost:8080/",
          "height": 34
        }
      },
      "source": [
        "lista = [[0,0,0] for x in range(3)]\n",
        "print(lista)\n",
        "\n"
      ],
      "execution_count": 36,
      "outputs": [
        {
          "output_type": "stream",
          "text": [
            "[[0, 0, 0], [0, 0, 0], [0, 0, 0]]\n"
          ],
          "name": "stdout"
        }
      ]
    },
    {
      "cell_type": "code",
      "metadata": {
        "id": "sW4hOWdk93fO",
        "outputId": "3c651cbd-b8e6-4d0e-dde4-3e0197afa378",
        "colab": {
          "base_uri": "https://localhost:8080/",
          "height": 34
        }
      },
      "source": [
        "ren = 3\n",
        "col = 3\n",
        "\n",
        "lista =  [ [0 for x in range(col)] for x in range(ren)]\n",
        "print(lista)"
      ],
      "execution_count": 42,
      "outputs": [
        {
          "output_type": "stream",
          "text": [
            "[[0, 0, 0], [0, 0, 0], [0, 0, 0]]\n"
          ],
          "name": "stdout"
        }
      ]
    },
    {
      "cell_type": "code",
      "metadata": {
        "id": "uVN-fFFo8Ga6",
        "outputId": "8aea1dd8-c6f0-4c1b-a87b-d698ca08d24b",
        "colab": {
          "base_uri": "https://localhost:8080/",
          "height": 68
        }
      },
      "source": [
        "lista = [x for x in range (10)]\n",
        "print(lista)\n",
        "\n",
        "lista = [x for x in colores]\n",
        "print(lista)\n",
        "\n",
        "lista = [0 for x in range(10)]\n",
        "print(lista)"
      ],
      "execution_count": 34,
      "outputs": [
        {
          "output_type": "stream",
          "text": [
            "[0, 1, 2, 3, 4, 5, 6, 7, 8, 9]\n",
            "['ROJO0', 'ROSA1', 'MORADO2', 'FIUCHA3']\n",
            "[0, 0, 0, 0, 0, 0, 0, 0, 0, 0]\n"
          ],
          "name": "stdout"
        }
      ]
    },
    {
      "cell_type": "markdown",
      "metadata": {
        "id": "L7Lw7jZQ_cDM"
      },
      "source": [
        "# Poo en Python\n",
        "\n",
        "- clase\n",
        "- creación de objetos\n",
        "- constructor\n",
        "- encapsulamiento\n",
        "- métodos\n",
        "- atributos\n",
        "- herencia\n"
      ]
    },
    {
      "cell_type": "code",
      "metadata": {
        "id": "FBhi6ccQ_GEY",
        "outputId": "3cb21a2c-0cd5-4ae2-9d55-a9b90ca4d04a",
        "colab": {
          "base_uri": "https://localhost:8080/",
          "height": 51
        }
      },
      "source": [
        "class Computadora:\n",
        "  def __init__( self, m , p):\n",
        "    print(\"Creando el Objeto\")\n",
        "    self.__marca = m #con los __ es para decir que es provado\n",
        "    self.__procedador = p # __ privado 7o7r\n",
        "\n",
        "  def to_string( self ):\n",
        "    return \" Marca:\"+ self.__marca+ \"Procesador:\"+ self.__procedador\n",
        "    return \"Estado vacío\"\n",
        "\n",
        "#aquí ya se da por entendido que mi_pc ya es un objeto de la clase computadora\n",
        "mi_pc = Computadora(\" Toshiba \", \"Intel i7\")\n",
        "\n",
        "#el hp de abajo lo ignora porque está saltando los parametros de encapsulado\n",
        "mi_pc.__marca = \"HP \"\n",
        "print(mi_pc.to_string())\n"
      ],
      "execution_count": 57,
      "outputs": [
        {
          "output_type": "stream",
          "text": [
            "Creando el Objeto\n",
            " Marca: Toshiba Procesador:Intel i7\n"
          ],
          "name": "stdout"
        }
      ]
    }
  ]
}
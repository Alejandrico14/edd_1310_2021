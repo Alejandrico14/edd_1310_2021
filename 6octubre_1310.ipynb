{
  "nbformat": 4,
  "nbformat_minor": 0,
  "metadata": {
    "colab": {
      "name": "6octubre_1310.ipynb",
      "provenance": [],
      "authorship_tag": "ABX9TyOqJmVxdsXfZd2P9USGFYeF",
      "include_colab_link": true
    },
    "kernelspec": {
      "name": "python3",
      "display_name": "Python 3"
    }
  },
  "cells": [
    {
      "cell_type": "markdown",
      "metadata": {
        "id": "view-in-github",
        "colab_type": "text"
      },
      "source": [
        "<a href=\"https://colab.research.google.com/github/Alejandrico14/edd_1310_2021/blob/master/6octubre_1310.ipynb\" target=\"_parent\"><img src=\"https://colab.research.google.com/assets/colab-badge.svg\" alt=\"Open In Colab\"/></a>"
      ]
    },
    {
      "cell_type": "code",
      "metadata": {
        "id": "E4AqF7fXqpzA",
        "outputId": "4cc88fcf-527b-452a-d570-ccc882cb7b3b",
        "colab": {
          "base_uri": "https://localhost:8080/",
          "height": 374
        }
      },
      "source": [
        "#String continuación\n",
        "\n",
        "numeros_txt = \"    1,2,3, 4,   5,    35,    15, 12\"\n",
        "\n",
        "print(numeros_txt)\n",
        "#con strip te saltas el primer espacio y los strip separan las palabras por cada coma \n",
        "#que encuentran\n",
        "numeros_txt= numeros_txt.lstrip().split(\",\")\n",
        "print(numeros_txt)\n",
        "\n",
        "for j in range(len(numeros_txt)):\n",
        "  numeros_txt[ j ] = int(numeros_txt[j].strip())\n",
        "\n",
        "\n",
        "print(\"__________________________\")\n",
        "print(numeros_txt)\n",
        "\n",
        "#funcion range ()\n",
        "\n",
        "# range(inicio, stop, incremento)\n",
        "print(range(0,10,1))\n",
        "\n",
        "rango = range(1,10,2)\n",
        "\n",
        "for x in rango:\n",
        "  print(x)\n",
        "\n",
        "print(\"_______________\")\n",
        "rango= range (10)\n",
        "for x in rango:\n",
        "  print(x)"
      ],
      "execution_count": 16,
      "outputs": [
        {
          "output_type": "stream",
          "text": [
            "    1,2,3, 4,   5,    35,    15, 12\n",
            "['1', '2', '3', ' 4', '   5', '    35', '    15', ' 12']\n",
            "__________________________\n",
            "[1, 2, 3, 4, 5, 35, 15, 12]\n",
            "range(0, 10)\n",
            "1\n",
            "3\n",
            "5\n",
            "7\n",
            "9\n",
            "_______________\n",
            "0\n",
            "1\n",
            "2\n",
            "3\n",
            "4\n",
            "5\n",
            "6\n",
            "7\n",
            "8\n",
            "9\n"
          ],
          "name": "stdout"
        }
      ]
    },
    {
      "cell_type": "markdown",
      "metadata": {
        "id": "Ee-4BxFXxE7e"
      },
      "source": [
        "# Listas\n",
        "\n",
        "- Mutables\n",
        "- Declaran con [ ]\n",
        "- Selector[ int ]\n",
        "- Pueden ser de cualquier tipo y mezclado\n",
        "\n",
        "# Tuplas\n",
        "\n",
        "- No mutables\n",
        "- Se declaran con parentesis ()\n",
        "- Selecctos [ int ]\n",
        "\n",
        "# Diccionarios\n",
        "- Son mutables\n",
        "- Son conjunto de pares llave:valor\n",
        "- Equivalentes a los objetos JSON de javaScript\n",
        "\n",
        "# Conjuntos\n",
        "- Representación de la teoría de conjuntos\n",
        "\n"
      ]
    },
    {
      "cell_type": "code",
      "metadata": {
        "id": "vLoMMPaJxDrK",
        "outputId": "8d88692b-1d90-408b-ea2e-e92ac8c4d88e",
        "colab": {
          "base_uri": "https://localhost:8080/",
          "height": 136
        }
      },
      "source": [
        "# Listas (equivalente a arreglos en otros lenguajes de programación)\n",
        "frutas = [\"Pera\", \"Manzana\",\"Fresa\", \"Kiwi\",\"Naranja\"]\n",
        "print(frutas)\n",
        "\n",
        "\n",
        "\n",
        "#son mutable, eso significa que podemos cambiar las listas cuando queramos\n",
        "frutas[2]= \"Freeesa\" # o tambien frutas[2]= frutas[2].capitalize() pero recuerda que es para mayusculas\n",
        "print(frutas)\n",
        "#agregar a la lista\n",
        "\n",
        "\n",
        "frutas.append(\"Awacate\")\n",
        "print(frutas)\n",
        "#apeend siempre lo manda al final\n",
        "\n",
        "frutas.insert(2,\"Sandíá\")\n",
        "print(frutas)\n",
        "\n",
        "fecha= [\"06\",\"10\",\"2020\"] #06/10/2020\n",
        "print(fecha)\n",
        "fecha_str=\"/\".join(fecha)\n",
        "print(fecha_str)\n",
        "\n",
        "# Eliminar elementos\n",
        "\n",
        "\n"
      ],
      "execution_count": 26,
      "outputs": [
        {
          "output_type": "stream",
          "text": [
            "['Pera', 'Manzana', 'Fresa', 'Kiwi', 'Naranja']\n",
            "['Cuadreno', 2, 3.1416, True, False, ['rojo', 'Azul']]\n",
            "['Pera', 'Manzana', 'Freeesa', 'Kiwi', 'Naranja']\n",
            "['Pera', 'Manzana', 'Freeesa', 'Kiwi', 'Naranja', 'Awacate']\n",
            "['Pera', 'Manzana', 'Sandíá', 'Freeesa', 'Kiwi', 'Naranja', 'Awacate']\n",
            "['06', '10', '2020']\n",
            "06/10/2020\n"
          ],
          "name": "stdout"
        }
      ]
    },
    {
      "cell_type": "code",
      "metadata": {
        "id": "7xPPK-5sz1Ur"
      },
      "source": [
        "help(list)"
      ],
      "execution_count": null,
      "outputs": []
    },
    {
      "cell_type": "code",
      "metadata": {
        "id": "VvYzstoq3RnM"
      },
      "source": [
        "# Eliminar elementos\n",
        "cosas=[\"Cuadreno\", 2 ,3.1416, True, False, [\"rojo\", \"Azul\"]]\n",
        "       \n",
        "print(cosas)\n",
        "cosas.append(\"Libro\")\n",
        "cosas.append(\"Lapiz\")\n",
        "print(cosas)\n",
        "algo= cosas.pop()\n",
        "print(cosas)\n",
        "print(algo)\n",
        "\n",
        "algo = cosas.pop(2)\n",
        "print(cosas)\n",
        "print(algo)\n",
        "\n",
        "cosas.remove(2)\n",
        "print(cosas)\n",
        "\n",
        "cosas.append(algo)\n",
        "print(cosas)\n",
        "\n",
        "#vaciar una lista\n",
        "\n",
        "cosas.clear()\n",
        "print(cosas)\n",
        "\n",
        "#ordenar\n",
        "print(frutas)\n",
        "frutas.sort()\n",
        "#el sort lo ordena\n",
        "print(frutas)\n",
        "\n",
        "#para que sort funcione, los datos en la lista tiene que tener congruencia\n"
      ],
      "execution_count": null,
      "outputs": []
    },
    {
      "cell_type": "code",
      "metadata": {
        "id": "X9sKh8Nh3eyC"
      },
      "source": [
        "#Slicing\n",
        "cosas=[\"Cuaderno\", 2 ,3.1416, True, False, [\"rojo\", \"Azul\"]]\n",
        "\n",
        "print(cosas[3:5:1])\n",
        "print(cosas)\n",
        "#recuerda siempre  que e Slicing solo toma los datos, el 3 es donde empieza y el 5 donde acaba \n",
        "#y el 1 es de cuanto en cuanto muestra el contenido\n",
        "print(cosas[0][3:5:1])\n",
        "#con ese comando solo seleccionamos el \"de\" de cuaderno\n",
        "\n",
        "numeros = [0,1,2,3,4,5,6,7,8,9,10,11,12,13,14,15]\n",
        "print(numeros[8:13:1])\n",
        "\n",
        "print(\"_____________-\")\n",
        "print(numeros)\n",
        "#el tope no se incluye y no hace falta escribir ahí el [:1]\n",
        "\n",
        "#sustituir rebanadas -2,-2 -> [0,1,2,3,4,5,6,7,-2,-2,13,14,15]\n",
        "\n",
        "numeros[8:13] = [-2,-2]\n",
        "print(\"Ya sustituido el -2,-2\")\n",
        "print(numeros)\n",
        "\n",
        "#preguntar por existencia\n",
        "print(100 in numeros)\n",
        "print(-2 in numeros)\n",
        "\n"
      ],
      "execution_count": null,
      "outputs": []
    },
    {
      "cell_type": "markdown",
      "metadata": {
        "id": "cc9Mpb1G-j9U"
      },
      "source": [
        "# Listas multidimensión\n",
        "\n",
        "listas dentro de listas\n"
      ]
    },
    {
      "cell_type": "code",
      "metadata": {
        "id": "9WLfy-ZG-i8a",
        "outputId": "25881c09-795d-486b-9466-4c42f06802d7",
        "colab": {
          "base_uri": "https://localhost:8080/",
          "height": 224
        }
      },
      "source": [
        "computadoras = [\"HP\", \"Mac Book pro 17\", \"Mate book\", \"lennovo legion\"]\n",
        "oss=[\"Windows 10\", \"Linux\", \"Android\", \"iOS\",]\n",
        "\n",
        "computo = [computadoras, oss]\n",
        "print(computo[0])\n",
        "print(computo[1])\n",
        "print(computo[0][2])\n",
        "print(computo[0][2][0:5])\n",
        "print(computo[0][3][6: :-1])\n",
        "print(computo[0][3][-8: :-1])\n",
        "#comprobando existencias\n",
        "print(\"Linux\"in computo[1])\n",
        "dbms = [[\"Mysql\",\"Open Source\",False],[\"MS SQL Server\",\"de paga\", True] ]\n",
        "computo.append(dbms)\n",
        "print(computo)\n",
        "print(computo[2][0][0])\n",
        "print(computo[2][1][0:2])\n",
        "print(computo[2][1][0][3:6:1])"
      ],
      "execution_count": 78,
      "outputs": [
        {
          "output_type": "stream",
          "text": [
            "['HP', 'Mac Book pro 17', 'Mate book', 'lennovo legion']\n",
            "['Windows 10', 'Linux', 'Android', 'iOS']\n",
            "Mate book\n",
            "Mate \n",
            "ovonnel\n",
            "ovonnel\n",
            "True\n",
            "[['HP', 'Mac Book pro 17', 'Mate book', 'lennovo legion'], ['Windows 10', 'Linux', 'Android', 'iOS'], [['Mysql', 'Open Source', False], ['MS SQL Server', 'de paga', True]]]\n",
            "Mysql\n",
            "['MS SQL Server', 'de paga']\n",
            "SQL\n"
          ],
          "name": "stdout"
        }
      ]
    }
  ]
}
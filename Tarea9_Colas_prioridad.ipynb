{
  "nbformat": 4,
  "nbformat_minor": 0,
  "metadata": {
    "colab": {
      "name": "Tarea9_Colas_prioridad.ipynb",
      "provenance": [],
      "authorship_tag": "ABX9TyOucmsf5t8mNEJA7SH76oRZ",
      "include_colab_link": true
    },
    "kernelspec": {
      "name": "python3",
      "display_name": "Python 3"
    }
  },
  "cells": [
    {
      "cell_type": "markdown",
      "metadata": {
        "id": "view-in-github",
        "colab_type": "text"
      },
      "source": [
        "<a href=\"https://colab.research.google.com/github/Alejandrico14/edd_1310_2021/blob/master/Tarea9_Colas_prioridad.ipynb\" target=\"_parent\"><img src=\"https://colab.research.google.com/assets/colab-badge.svg\" alt=\"Open In Colab\"/></a>"
      ]
    },
    {
      "cell_type": "code",
      "metadata": {
        "id": "pUPodspNdSWQ",
        "colab": {
          "base_uri": "https://localhost:8080/"
        },
        "outputId": "d216d8e5-70e8-48d5-b540-d7086cd66212"
      },
      "source": [
        "class PriorityQueue:\r\n",
        "    def __init__(self):\r\n",
        "        self.__data = []\r\n",
        "        \r\n",
        "    def is_empty(self):\r\n",
        "        return len(self.__data) == 0\r\n",
        "\r\n",
        "    def length(self):\r\n",
        "        return self.__size\r\n",
        "    \r\n",
        "    def enqueue (self,elem):\r\n",
        "        self.__data.append(elem)\r\n",
        "    \r\n",
        "    def dequeue (self):\r\n",
        "        if not self.is_empty():\r\n",
        "            return self.__data.pop(0) \r\n",
        "        else:\r\n",
        "            return None\r\n",
        " \r\n",
        "    def to_string(self):\r\n",
        "        cadena = \"\"\r\n",
        "        for elem in self.__data:\r\n",
        "            cadena = cadena + \"| \" + str(elem)\r\n",
        "        cadena = cadena +\"|\"\r\n",
        "        return cadena\r\n",
        "\r\n",
        "print(\"PriorityQueue\")\r\n",
        "print('---------------------')\r\n",
        "pq = PriorityQueue()\r\n",
        "\r\n",
        "pq.enqueue(16)\r\n",
        "pq.enqueue(344)\r\n",
        "pq.enqueue(44)\r\n",
        "pq.enqueue(876)\r\n",
        "pq.enqueue(122)\r\n",
        "pq.enqueue(23)\r\n",
        "\r\n",
        "print(pq.to_string())\r\n",
        "while not pq.is_empty(): \r\n",
        "        print(pq.dequeue())"
      ],
      "execution_count": 15,
      "outputs": [
        {
          "output_type": "stream",
          "text": [
            "PriorityQueue\n",
            "---------------------\n",
            "| 16| 344| 44| 876| 122| 23|\n",
            "16\n",
            "344\n",
            "44\n",
            "876\n",
            "122\n",
            "23\n"
          ],
          "name": "stdout"
        }
      ]
    }
  ]
}
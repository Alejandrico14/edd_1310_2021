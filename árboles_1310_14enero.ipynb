{
  "nbformat": 4,
  "nbformat_minor": 0,
  "metadata": {
    "colab": {
      "name": "árboles_1310_14enero.ipynb",
      "provenance": [],
      "authorship_tag": "ABX9TyM9P3KPV6OtynXFvXubthVZ",
      "include_colab_link": true
    },
    "kernelspec": {
      "name": "python3",
      "display_name": "Python 3"
    }
  },
  "cells": [
    {
      "cell_type": "markdown",
      "metadata": {
        "id": "view-in-github",
        "colab_type": "text"
      },
      "source": [
        "<a href=\"https://colab.research.google.com/github/Alejandrico14/edd_1310_2021/blob/master/%C3%A1rboles_1310_14enero.ipynb\" target=\"_parent\"><img src=\"https://colab.research.google.com/assets/colab-badge.svg\" alt=\"Open In Colab\"/></a>"
      ]
    },
    {
      "cell_type": "code",
      "metadata": {
        "colab": {
          "base_uri": "https://localhost:8080/"
        },
        "id": "gf0cehk8B9ll",
        "outputId": "7631af09-9e5b-49a8-a0de-1c87bec64e9c"
      },
      "source": [
        "class NodoArbol:\r\n",
        "  def __init__(self, value, left=None, right=None):\r\n",
        "    self.data = value\r\n",
        "    self.left = left\r\n",
        "    self.right = right\r\n",
        "\r\n",
        "arbol = NodoArbol(\"R\", NodoArbol(\"C\"), NodoArbol(\"H\"))\r\n",
        "print(arbol.left.data)  # para C\r\n",
        "print(arbol.right.data) # Esto imprime H\r\n",
        "print(arbol.data) #esto immprime la R\r\n",
        "\r\n",
        "# Esto es para un árbol más extendido\r\n",
        "#--------------- (Rama izq------izq,------izq-----------izq----Aqui solo sigue la extensión de la primera)\r\n",
        "arbol2 = NodoArbol(4, NodoArbol(3 , NodoArbol (2 , NodoArbol(2)) ),NodoArbol(5) )\r\n",
        "\r\n",
        "print(arbol2.left.left.left.data)\r\n",
        "print(arbol2.right.data)"
      ],
      "execution_count": null,
      "outputs": [
        {
          "output_type": "stream",
          "text": [
            "C\n",
            "H\n",
            "R\n",
            "2\n",
            "5\n"
          ],
          "name": "stdout"
        }
      ]
    }
  ]
}
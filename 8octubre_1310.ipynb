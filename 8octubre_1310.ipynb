{
  "nbformat": 4,
  "nbformat_minor": 0,
  "metadata": {
    "colab": {
      "name": "8octubre_1310.ipynb",
      "provenance": [],
      "authorship_tag": "ABX9TyNiE7MhBdGpMbFSkhnQdoIv",
      "include_colab_link": true
    },
    "kernelspec": {
      "name": "python3",
      "display_name": "Python 3"
    }
  },
  "cells": [
    {
      "cell_type": "markdown",
      "metadata": {
        "id": "view-in-github",
        "colab_type": "text"
      },
      "source": [
        "<a href=\"https://colab.research.google.com/github/Alejandrico14/edd_1310_2021/blob/master/8octubre_1310.ipynb\" target=\"_parent\"><img src=\"https://colab.research.google.com/assets/colab-badge.svg\" alt=\"Open In Colab\"/></a>"
      ]
    },
    {
      "cell_type": "code",
      "metadata": {
        "id": "O0QPiz7S_O6z",
        "outputId": "3c8bc9f9-3404-4a0b-e242-62ff9753cae6",
        "colab": {
          "base_uri": "https://localhost:8080/",
          "height": 122
        }
      },
      "source": [
        "monitores =[[\"Samsung\",\"17.3 \\\"\",1024],[\"BenQ\",\"40\\\"\",2048]]\n",
        "procesadores = [[\"Intel\",\"i7\",3.4],[\"AMD\",\"razzer\",3.3],[\"Intel\",\"i3\",3.1]]\n",
        "memorias = [[\"Kingston\", \"8GB\",\"DDR4\"],[\"Kingston\", \"16GB\",\"DDR3\"],[\"ADATA\", \"32GB\",\"DDR4\"]]\n",
        "\n",
        "componentes = [monitores,procesadores,memorias]\n",
        "print(componentes)\n",
        "print(componentes[1])\n",
        "\n",
        "print(componentes[0][1][2]*2)\n",
        "\n",
        "print(componentes[1][1][1][1:4:1])\n",
        "\n",
        "print(componentes[2][2][0].lower())\n",
        "\n",
        "\n"
      ],
      "execution_count": 18,
      "outputs": [
        {
          "output_type": "stream",
          "text": [
            "[[['Samsung', '17.3 \"', 1024], ['BenQ', '40\"', 2048]], [['Intel', 'i7', 3.4], ['AMD', 'razzer', 3.3], ['Intel', 'i3', 3.1]], [['Kingston', '8GB', 'DDR4'], ['Kingston', '16GB', 'DDR3'], ['ADATA', '32GB', 'DDR4']]]\n",
            "[['Intel', 'i7', 3.4], ['AMD', 'razzer', 3.3], ['Intel', 'i3', 3.1]]\n",
            "4096\n",
            "azz\n",
            "adata\n"
          ],
          "name": "stdout"
        }
      ]
    },
    {
      "cell_type": "code",
      "metadata": {
        "id": "YFfkxrvHImOp",
        "outputId": "e47d4dc6-450b-44dd-97ab-27d112006c0b",
        "colab": {
          "base_uri": "https://localhost:8080/",
          "height": 204
        }
      },
      "source": [
        "#copiar listas\n",
        "# Extender Listas\n",
        "\n",
        "frutas =[\"Manzana\", \"pera\"]\n",
        "otras_frutas =[\"aguacate\", \"sandia\"]\n",
        "\n",
        "#cuando se suma no se guarda las variables de la lista y en realidad se trabaja como operación\n",
        "# + sobre listas\n",
        "#frutas = frutas + otras_frutas\n",
        "#print(frutas)\n",
        "\n",
        "# función Extend()\n",
        "frutas.extend(otras_frutas)\n",
        "print(frutas)\n",
        "\n",
        "frutas.append(otras_frutas)\n",
        "\n",
        "print(frutas)\n",
        "\n",
        "colores = [\"azul\",\"rojo\",\"verde\",\"violeta\"]\n",
        "otros_colores = colores\n",
        "print(colores)\n",
        "print(otros_colores)\n",
        "otros_colores.append(\"Rosa\")\n",
        "print(colores)\n",
        "print(otros_colores)\n",
        "#copiar\n",
        "#ahora con el copy ya se le está asignando memoria a la lista y así ya mantiene otros datos\n",
        "una_mas = colores.copy()\n",
        "print(una_mas)\n",
        "una_mas.append(\"gris\")\n",
        "print(una_mas)\n",
        "print(colores)\n",
        "\n",
        "# unpacking de listas\n",
        "\n",
        "\n",
        "alumno =[\"Alejandro\", \"Jiménez \", \"Almazán\",20,\"ICO\",8.5]\n",
        "#nombre= alumno[0]\n",
        "#paterno=alumno[1]\n",
        "#materno=alumno[2]\n",
        "#edad=alumno[3]\n",
        "#carrera=alumno[4]\n",
        "#promedio=alumno[5]\n",
        "#etc\n",
        "\n",
        "#o también... \n",
        "nombre,paterno,materno,edad,carrera,promedio= alumno\n",
        "#Es decir que deacuerdo voy poniendo aquí los atributos, les va asignando su valor\n",
        "#por lo tanto, si ahí escribí \"nombre\", va a tomar el valor de \"Alejandro\"\n",
        "# y así con el resto de datos \n",
        "\n",
        "print(f\"\\nAlumno:{nombre} /Carrera: { carrera} /Promedio={promedio}\")\n",
        "\n"
      ],
      "execution_count": 42,
      "outputs": [
        {
          "output_type": "stream",
          "text": [
            "['Manzana', 'pera', 'aguacate', 'sandia']\n",
            "['Manzana', 'pera', 'aguacate', 'sandia', ['aguacate', 'sandia']]\n",
            "['azul', 'rojo', 'verde', 'violeta']\n",
            "['azul', 'rojo', 'verde', 'violeta']\n",
            "['azul', 'rojo', 'verde', 'violeta', 'Rosa']\n",
            "['azul', 'rojo', 'verde', 'violeta', 'Rosa']\n",
            "['azul', 'rojo', 'verde', 'violeta', 'Rosa']\n",
            "['azul', 'rojo', 'verde', 'violeta', 'Rosa', 'gris']\n",
            "['azul', 'rojo', 'verde', 'violeta', 'Rosa']\n",
            "\n",
            "Alumno:Alejandro /Carrera: ICO /Promedio=8.5\n"
          ],
          "name": "stdout"
        }
      ]
    },
    {
      "cell_type": "markdown",
      "metadata": {
        "id": "HNc05DjYR46j"
      },
      "source": [
        "# Tuplas\n",
        "- se declaran con ()\n",
        "- selector [   ]\n",
        "- No son mutables\n",
        "\n"
      ]
    },
    {
      "cell_type": "code",
      "metadata": {
        "id": "08xSIZnPR3_T",
        "outputId": "73f8e8d9-d97b-4a13-fe27-422781d1b285",
        "colab": {
          "base_uri": "https://localhost:8080/",
          "height": 51
        }
      },
      "source": [
        "precios = (99.9, 49.9, 12.45, 23.3, 33.44, 55.66)\n",
        "#una tupla es un conjunto de datos inexados, es decir que tiene un mismo \n",
        "#comportamiento que una lista\n",
        "print(precios[1])\n",
        "#precios[1]= 50.0\n",
        "print(precios)\n",
        "#más que nada son parecidas a las listas solo que no se pueden moldear"
      ],
      "execution_count": 45,
      "outputs": [
        {
          "output_type": "stream",
          "text": [
            "49.9\n",
            "(99.9, 49.9, 12.45, 23.3, 33.44, 55.66)\n"
          ],
          "name": "stdout"
        }
      ]
    },
    {
      "cell_type": "markdown",
      "metadata": {
        "id": "YPjikba_TlBo"
      },
      "source": [
        "# DICCIONARIOS\n",
        "- se declara con { }\n",
        "- si son mutables\n",
        "- conjunto de pares llave: valor\n",
        "- equivalente a los Objetos JSON de JavaScript\n"
      ]
    },
    {
      "cell_type": "code",
      "metadata": {
        "id": "Y2ADP0Z8SMZW",
        "outputId": "2c5463f3-d8e9-43f8-d6dc-504fa643b3ec",
        "colab": {
          "base_uri": "https://localhost:8080/",
          "height": 139
        }
      },
      "source": [
        "cliente = { }\n",
        "print(cliente)\n",
        "alumno = { \"num_cta\" :30303030303}\n",
        "print(alumno)\n",
        "\n",
        "alumno = { \n",
        "          \"num_cta\" : 303030303 ,\n",
        "          \"carrera\" : \"ICO\",\n",
        "          \"promedio\" : 9.8,\n",
        "          \"materias\" :[\"EDD\",\"CyP\",\"Calidad\",\"Emprendimiento\"],\n",
        "          \"direccion\" : { \n",
        "                            \"calle\":\"rancho seco\",\n",
        "                            \"numero\" : 23 ,\n",
        "                            \"delegacion\" : \"Neza\",\n",
        "                            \"estado\" : {\n",
        "                                        \"id\" : 15 ,\n",
        "                                        \"nombre\" : \"Estado de Máxico\" ,\n",
        "                                        \"nombre_corto\" : \"EdoMex\"\n",
        "                                        } ,\n",
        "                            \"CP\":57170\n",
        "\n",
        "                        } \n",
        "          }\n",
        "print(alumno)\n",
        "print(alumno['materias'])\n",
        "print(alumno['promedio'])\n",
        "print(alumno['direccion']['estado']['nombre_corto'])"
      ],
      "execution_count": 51,
      "outputs": [
        {
          "output_type": "stream",
          "text": [
            "{}\n",
            "{'num_cta': 30303030303}\n",
            "{'num_cta': 303030303, 'carrera': 'ICO', 'promedio': 9.8, 'materias': ['EDD', 'CyP', 'Calidad', 'Emprendimiento'], 'direccion': {'calle': 'rancho seco', 'numero': 23, 'delegacion': 'Neza', 'estado': {'id': 15, 'nombre': 'Estado de Máxico', 'nombre_corto': 'EdoMex'}, 'CP': 57170}}\n",
            "['EDD', 'CyP', 'Calidad', 'Emprendimiento']\n",
            "9.8\n",
            "EdoMex\n"
          ],
          "name": "stdout"
        }
      ]
    }
  ]
}
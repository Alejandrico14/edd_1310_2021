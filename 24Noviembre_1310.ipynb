{
  "nbformat": 4,
  "nbformat_minor": 0,
  "metadata": {
    "colab": {
      "name": "24Noviembre_1310.ipynb",
      "provenance": [],
      "authorship_tag": "ABX9TyMkJIKzSoxnqdf6KvSWk8xx",
      "include_colab_link": true
    },
    "kernelspec": {
      "name": "python3",
      "display_name": "Python 3"
    }
  },
  "cells": [
    {
      "cell_type": "markdown",
      "metadata": {
        "id": "view-in-github",
        "colab_type": "text"
      },
      "source": [
        "<a href=\"https://colab.research.google.com/github/Alejandrico14/edd_1310_2021/blob/master/24Noviembre_1310.ipynb\" target=\"_parent\"><img src=\"https://colab.research.google.com/assets/colab-badge.svg\" alt=\"Open In Colab\"/></a>"
      ]
    },
    {
      "cell_type": "code",
      "metadata": {
        "colab": {
          "base_uri": "https://localhost:8080/",
          "height": 350
        },
        "id": "bRLT3-T6Oq-a",
        "outputId": "3d2d5e8b-0bab-415d-a6cc-74114ea282dd"
      },
      "source": [
        "class Nodo:\n",
        "  pass\n",
        "\n",
        "class LinkedList:\n",
        "  pass\n",
        "\n",
        "class NodoDoble:\n",
        "    def __init__(self, value, anterior = None, siguiente = None):#recuerda que esto es el constructor\n",
        "        self.data = value\n",
        "        self.next = siguiente\n",
        "        self.prev = anterior\n",
        "\n",
        "class DoubleLinkedList:     #Declara atributos de clase\n",
        "    def __initi__(self):\n",
        "       self.__head = NodoDoble (None)   #Ya declaramos head\n",
        "       self.__tail = NodoDoble (None)   #Ya declaramos tail\n",
        "       self.__size = 0\n",
        "\n",
        "    def get_size(self):\n",
        "        return self.__size\n",
        "\n",
        "    def is_empty( self ):\n",
        "        return self.__size == 0\n",
        "\n",
        "    def append(self, value):\n",
        "        if self.is_empty():\n",
        "            nuevo = NodoDoble(value)\n",
        "            self.__head = nuevo\n",
        "            self.__tail = nuevo\n",
        "        else:\n",
        "            nuevo = NodoDoble(value, self.__tail, None)\n",
        "            self.__tail.next = nuevo\n",
        "            self.tail = nuevo\n",
        "\n",
        "            self.__size += 1\n",
        "\n",
        "    def transversal(self):\n",
        "        curr_node = self.__head\n",
        "        while curr_node != None:\n",
        "            print(f\"<-- {curr_node.data}-->\" , end= \"\")\n",
        "            curr_node = curr_node.next\n",
        "        print(\"\")\n",
        "\n",
        "    def reverse_transversal(self):  #Para entrar por el final\n",
        "        curr_node = self.__tail\n",
        "        while curr_node != None:\n",
        "            print(f\"<-- {curr_node.data}-->\" , end= \"\")\n",
        "            curr_node = curr_node.prev\n",
        "        print(\"\")\n",
        "\n",
        "    def remove_from_head(self,value):\n",
        "        curr_node = self.__head\n",
        "        if self.__head.data == value:\n",
        "            self.__head = self.__head.next\n",
        "            self.__head.prev = None\n",
        "\n",
        "        elif self.__tail.data == value:\n",
        "            self.__tail.prev.next = None\n",
        "            self.__tail = self.__tail.prev #nuevo head = 9\n",
        "                \n",
        "        while curr_node.data != value and curr_node!= None:\n",
        "            curr_node= curr_node.next\n",
        "        if curr_node.data == value:\n",
        "           curr_node.prev.next = curr_node.next\n",
        "           curr_node.next.prev = curr_node.prev\n",
        "        curr_node.next = None\n",
        "        curr_node.prev = None\n",
        "        self.__size -= 1\n",
        "\n",
        "    \n",
        "\n",
        "ld = DoubleLinkedList()\n",
        "print('Está vacía?:',ld.is_empty())\n",
        "ls.append(10)\n",
        "ls.append(20)\n",
        "ls.append(30)\n",
        "print(f\"La lista tiene{ld.get_size()}elementos\")\n",
        "ld.transversal()\n",
        "ld.reverse_transversal()\n",
        "ld.remove_from_head(20)\n",
        "ld.transversal()"
      ],
      "execution_count": 7,
      "outputs": [
        {
          "output_type": "error",
          "ename": "AttributeError",
          "evalue": "ignored",
          "traceback": [
            "\u001b[0;31m---------------------------------------------------------------------------\u001b[0m",
            "\u001b[0;31mAttributeError\u001b[0m                            Traceback (most recent call last)",
            "\u001b[0;32m<ipython-input-7-c6a963685a08>\u001b[0m in \u001b[0;36m<module>\u001b[0;34m()\u001b[0m\n\u001b[1;32m     71\u001b[0m \u001b[0;34m\u001b[0m\u001b[0m\n\u001b[1;32m     72\u001b[0m \u001b[0mld\u001b[0m \u001b[0;34m=\u001b[0m \u001b[0mDoubleLinkedList\u001b[0m\u001b[0;34m(\u001b[0m\u001b[0;34m)\u001b[0m\u001b[0;34m\u001b[0m\u001b[0;34m\u001b[0m\u001b[0m\n\u001b[0;32m---> 73\u001b[0;31m \u001b[0mprint\u001b[0m\u001b[0;34m(\u001b[0m\u001b[0;34m'Está vacía?:'\u001b[0m\u001b[0;34m,\u001b[0m\u001b[0mld\u001b[0m\u001b[0;34m.\u001b[0m\u001b[0mis_empty\u001b[0m\u001b[0;34m(\u001b[0m\u001b[0;34m)\u001b[0m\u001b[0;34m)\u001b[0m\u001b[0;34m\u001b[0m\u001b[0;34m\u001b[0m\u001b[0m\n\u001b[0m\u001b[1;32m     74\u001b[0m \u001b[0mls\u001b[0m\u001b[0;34m.\u001b[0m\u001b[0mappend\u001b[0m\u001b[0;34m(\u001b[0m\u001b[0;36m10\u001b[0m\u001b[0;34m)\u001b[0m\u001b[0;34m\u001b[0m\u001b[0;34m\u001b[0m\u001b[0m\n\u001b[1;32m     75\u001b[0m \u001b[0mls\u001b[0m\u001b[0;34m.\u001b[0m\u001b[0mappend\u001b[0m\u001b[0;34m(\u001b[0m\u001b[0;36m20\u001b[0m\u001b[0;34m)\u001b[0m\u001b[0;34m\u001b[0m\u001b[0;34m\u001b[0m\u001b[0m\n",
            "\u001b[0;32m<ipython-input-7-c6a963685a08>\u001b[0m in \u001b[0;36mis_empty\u001b[0;34m(self)\u001b[0m\n\u001b[1;32m     21\u001b[0m \u001b[0;34m\u001b[0m\u001b[0m\n\u001b[1;32m     22\u001b[0m     \u001b[0;32mdef\u001b[0m \u001b[0mis_empty\u001b[0m\u001b[0;34m(\u001b[0m \u001b[0mself\u001b[0m \u001b[0;34m)\u001b[0m\u001b[0;34m:\u001b[0m\u001b[0;34m\u001b[0m\u001b[0;34m\u001b[0m\u001b[0m\n\u001b[0;32m---> 23\u001b[0;31m         \u001b[0;32mreturn\u001b[0m \u001b[0mself\u001b[0m\u001b[0;34m.\u001b[0m\u001b[0m__size\u001b[0m \u001b[0;34m==\u001b[0m \u001b[0;36m0\u001b[0m\u001b[0;34m\u001b[0m\u001b[0;34m\u001b[0m\u001b[0m\n\u001b[0m\u001b[1;32m     24\u001b[0m \u001b[0;34m\u001b[0m\u001b[0m\n\u001b[1;32m     25\u001b[0m     \u001b[0;32mdef\u001b[0m \u001b[0mappend\u001b[0m\u001b[0;34m(\u001b[0m\u001b[0mself\u001b[0m\u001b[0;34m,\u001b[0m \u001b[0mvalue\u001b[0m\u001b[0;34m)\u001b[0m\u001b[0;34m:\u001b[0m\u001b[0;34m\u001b[0m\u001b[0;34m\u001b[0m\u001b[0m\n",
            "\u001b[0;31mAttributeError\u001b[0m: 'DoubleLinkedList' object has no attribute '_DoubleLinkedList__size'"
          ]
        }
      ]
    }
  ]
}
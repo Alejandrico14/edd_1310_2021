{
  "nbformat": 4,
  "nbformat_minor": 0,
  "metadata": {
    "colab": {
      "name": "colas_1310.ipynb",
      "provenance": [],
      "authorship_tag": "ABX9TyPPsibbc2l5+XHHm6JH00kv",
      "include_colab_link": true
    },
    "kernelspec": {
      "name": "python3",
      "display_name": "Python 3"
    }
  },
  "cells": [
    {
      "cell_type": "markdown",
      "metadata": {
        "id": "view-in-github",
        "colab_type": "text"
      },
      "source": [
        "<a href=\"https://colab.research.google.com/github/Alejandrico14/edd_1310_2021/blob/master/colas_1310.ipynb\" target=\"_parent\"><img src=\"https://colab.research.google.com/assets/colab-badge.svg\" alt=\"Open In Colab\"/></a>"
      ]
    },
    {
      "cell_type": "code",
      "metadata": {
        "colab": {
          "base_uri": "https://localhost:8080/"
        },
        "id": "A3ZuuRjQlToQ",
        "outputId": "c0c592ba-9056-4688-a3b4-1802849bedd6"
      },
      "source": [
        "class Queue: \r\n",
        "  def __init__(self):\r\n",
        "    self.__data = list() #[constructor]\r\n",
        "  \r\n",
        "  def is_empty(self):\r\n",
        "    return len(self.__data) == 0\r\n",
        "\r\n",
        "  def lenght( self ): \r\n",
        "    return len(self.__data)\r\n",
        "\r\n",
        "  def enqueue(self, elem):\r\n",
        "    self.__data.append(elem)\r\n",
        "\r\n",
        "  def dequeue ( self ):\r\n",
        "    if not self.is_empty():\r\n",
        "      return self.__data.pop(0)\r\n",
        "    else:\r\n",
        "      return None\r\n",
        "  \r\n",
        "  def to_string(self):\r\n",
        "    cadena = \"\"\r\n",
        "    for elem in self.__data:\r\n",
        "      cadena = cadena + \"|\" + str(elem) \r\n",
        "    cadena = cadena + \"|\"\r\n",
        "    return cadena\r\n",
        "\r\n",
        "\r\n",
        "# pruebas pruebosas\r\n",
        "\r\n",
        "q1 = Queue()\r\n",
        "q1.enqueue(3)\r\n",
        "q1.enqueue(33)\r\n",
        "q1.enqueue(23)\r\n",
        "print(q1.to_string())\r\n",
        "\r\n",
        "print(\"Prueba 2 de Queue\")\r\n",
        "c1 = {\"id\":1, \"nombre\":\"Mario\", \"balance\": 20.5}\r\n",
        "c2 = {\"id\":2, \"nombre\":\"Diana\", \"balance\": 3456.5}\r\n",
        "c3 = {\"id\":3, \"nombre\":\"Bartolo\", \"balance\": 1000000.0}\r\n",
        "\r\n",
        "atencion = Queue()\r\n",
        "atencion.enqueue(c1)\r\n",
        "atencion.enqueue(c2)\r\n",
        "atencion.enqueue(c3)\r\n",
        "\r\n",
        "print(atencion.to_string())\r\n",
        "siguiente= atencion.dequeue()\r\n",
        "print(\"Bienvenido señor Mario ¿en qué podemos ayudarle?\")\r\n",
        "\r\n",
        "\r\n"
      ],
      "execution_count": null,
      "outputs": [
        {
          "output_type": "stream",
          "text": [
            "|3|33|23|\n",
            "Prueba 2 de Queue\n",
            "|{'id': 1, 'nombre': 'Mario', 'balance': 20.5}|{'id': 2, 'nombre': 'Diana', 'balance': 3456.5}|{'id': 3, 'nombre': 'Bartolo', 'balance': 1000000.0}|\n",
            "Bienvenido señor Mario ¿en qué podemos ayudarle?\n"
          ],
          "name": "stdout"
        }
      ]
    }
  ]
}